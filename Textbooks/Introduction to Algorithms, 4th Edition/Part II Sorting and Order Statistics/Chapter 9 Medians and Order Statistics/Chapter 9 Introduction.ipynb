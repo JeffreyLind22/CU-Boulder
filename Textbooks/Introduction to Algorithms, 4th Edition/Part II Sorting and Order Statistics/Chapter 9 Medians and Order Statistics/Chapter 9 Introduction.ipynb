{
 "cells": [
  {
   "metadata": {},
   "cell_type": "markdown",
   "source": "# Introduction to Algorithms, 4th Edition: Part III Data Structures - Chapter 9 Introduction",
   "id": "e0e6d70e658b21d8"
  },
  {
   "metadata": {},
   "cell_type": "markdown",
   "source": [
    "The $i$th ***order statistic*** of a set of $n$ elements is the $i$th smallest element. For example, the ***minimum*** of a set of elements is the first order statistic ($i = 1$), and the ***maximum*** of a set of elements is the $n$th order statistic ($i = n$). A ***median***, informally, is the \"halfway point\" of the set. When $n$ is odd, the median is unique, occurring at $i = \\frac{n + 1}{2}$. When $n$ is even, there are two medians, the ***lower median*** occurring at $i = \\frac{n}{2}$ and the ***upper median*** occurring at $i = \\frac{n}{2} + 1$. Thus, regardless of the parity of $n$, medians occur at $i = \\left\\lfloor \\frac{n + 1}{2} \\right\\rfloor$ and $i = \\left\\lceil \\frac{n + 1}{2} \\right\\rceil$. For simplicity in this text, however, we consistently use the phrase \"the median\" to refer to the lower median.\n",
    "\n",
    "This chapter addresses the problem of selecting the $i$th order statistic from a set of $n$ distinct numbers. We assume for convenience that the set contains distinct numbers, although virtually everything we do extends to the situation in which a set contains repeated values. We formally specify the ***selection problem*** as follows:\n",
    "\n",
    "**Input:** A set of $n$ distinct numbers and an integer $i$, with $1 \\leq i \\leq n$.\n",
    "\n",
    "**Output:** The element $x \\in A$ that is larger than exactly $i - 1$ other elements in $A$.\n",
    "\n",
    "We can solve the selection problem in $O(n\\lg{n})$ time simply by sorting the numbers using heapsort or merge sort and then outputting the $i$th element in the sorted array. This chapter presents asymptotically faster algorithms.\n",
    "\n",
    "Section 9.1 examines the problem of selecting the minimum and maximum of a set of elements. More interesting is the general selection problem, which we investigate in the subsequent two sections. Section 9.2 analyzes a practical randomized algorithm that achieves an $O(n)$ expected running time, assuming distinct elements. Section 9.3 contains an algorithm of more theoretical interest that achieves the $O(n)$ running time in the worst case."
   ],
   "id": "7a8509f927055e4e"
  }
 ],
 "metadata": {
  "kernelspec": {
   "display_name": "Python 3",
   "language": "python",
   "name": "python3"
  },
  "language_info": {
   "codemirror_mode": {
    "name": "ipython",
    "version": 2
   },
   "file_extension": ".py",
   "mimetype": "text/x-python",
   "name": "python",
   "nbconvert_exporter": "python",
   "pygments_lexer": "ipython2",
   "version": "2.7.6"
  }
 },
 "nbformat": 4,
 "nbformat_minor": 5
}

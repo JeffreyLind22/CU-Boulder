{
 "cells": [
  {
   "metadata": {},
   "cell_type": "markdown",
   "source": "# Introduction to Algorithms, 4th Edition: Part II Sorting and Order Statistics - Chapter 9 Medians and Order Statistics - Section 9.1 Minimum and Maximum",
   "id": "2096460d68234c7b"
  },
  {
   "metadata": {},
   "cell_type": "markdown",
   "source": [
    "How many comparisons are necessary to determine the minimum of a set of $n$ elements? To get an upper bound of $n - 1$ comparisons, examine each element of the set in turn and keep track of the smallest element seen so far. The $\\texttt{Minimum}$ procedure assumes that the set resides in array $A[1 : n]$.\n",
    "```\n",
    "Minimum(A, n)\n",
    "[1] min = A[1]\n",
    "[2] for i = 2 to n\n",
    "[3]     if min > A[i]\n",
    "[4]         min = A[i]\n",
    "[5] return min\n",
    "```\n",
    "It is no more challenging to find the maximum with $n - 1$ comparisons.\n",
    "\n",
    "Is this algorithm for minimum the best we can do? Yes, because it turns out that there is a lower bound of $n - 1$ comparison for the problem of determining the minimum. Think of any algorithm that determines the minimum as a tournament among the elements. Each comparison is a match in the tournament in which the smaller of the two elements wins. Since every element except the winner must lose at least one match, we can conclude that $n - 1$ comparisons are necessary to determine the minimum. Hence, the algorithm $\\texttt{Minimum}$ is optimal with respect to the number of comparisons performed."
   ],
   "id": "87b9ce605a9dc374"
  },
  {
   "metadata": {},
   "cell_type": "markdown",
   "source": [
    "## Simultaneous Minimum and Maximum\n",
    "Some applications need to find both the minimum and the maximum of a set of $n$ elements. For example, a graphics program may need to scale a set of $(x, y)$ data to fit onto a rectangular display screen or other graphical output device. To do so, the program must first determine the minimum and maximum value of each coordinate. Of course, we can determine both the minimum and the maximum of $n$ elements using $\\Theta(n)$ comparisons. We simply find the minimum and the maximum independently, using $n - 1$ comparisons for each, for a total of $2n - 2 = \\Theta(n)$ comparisons.\n",
    "\n",
    "Although $2n - 2$ comparisons is asymptotically optimal, it is possible to improve the leading constant. We can find both the minimum and the maximum using at most $3\\left\\lfloor \\frac{n}{2} \\right\\rfloor$ comparisons. The trick is to maintain both the minimum and maximum elements seen thus far. Rather than processing each element of the input by comparing it against the current minimum and maximum, at a cost of $2$ comparisons per element, process elements in pairs. Compare pairs of elements from the input first *with each other*, and then compare the smaller with the current minimum and the larger to the current maximum, at a cost of $3$ comparisons for every $2$ elements.\n",
    "\n",
    "How you set up initial values for the current minimum and maximum depends on whether $n$ is odd or even. If $n$ is odd, set both the minimum and maximum to the value of the first element, and then process the rest of the elements in pairs. If $n$ is even, perform $1$ comparison on the first $2$ elements to determine the initial values of the minimum and maximum, and then process the rest of the elements in pairs as in the case for odd $n$.\n",
    "\n",
    "Let's count the total number of comparisons. If $n$ is odd, then $3\\left\\lfloor \\frac{n}{2} \\right\\rfloor$ comparisons occur. If $n$ is even, $1$ initial comparison occurs, followed by another $\\frac{3(n - 2)}{2}$ comparisons, for a total of $\\frac{3n}{2} - 2$. Thus, in either case, the total number of comparisons is at most $3\\left\\lfloor \\frac{n}{2} \\right\\rfloor$."
   ],
   "id": "5dbfb7d61b67b7c7"
  }
 ],
 "metadata": {
  "kernelspec": {
   "display_name": "Python 3",
   "language": "python",
   "name": "python3"
  },
  "language_info": {
   "codemirror_mode": {
    "name": "ipython",
    "version": 2
   },
   "file_extension": ".py",
   "mimetype": "text/x-python",
   "name": "python",
   "nbconvert_exporter": "python",
   "pygments_lexer": "ipython2",
   "version": "2.7.6"
  }
 },
 "nbformat": 4,
 "nbformat_minor": 5
}

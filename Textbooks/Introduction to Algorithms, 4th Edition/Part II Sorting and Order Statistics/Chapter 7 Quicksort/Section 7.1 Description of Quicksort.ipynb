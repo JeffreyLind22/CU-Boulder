{
 "cells": [
  {
   "metadata": {},
   "cell_type": "markdown",
   "source": "# Introduction to Algorithms, 4th Edition: Part II Sorting and Order Statistics - Chapter 7 Quicksort - Section 7.1 Description of Quicksort",
   "id": "2096460d68234c7b"
  },
  {
   "metadata": {},
   "cell_type": "markdown",
   "source": [
    "Quicksort, like merge sort, applies the divide-and-conquer method introduced in Section 2.3.1. Here is the three step divide-and-conquer process for sorting a subarray $A[p : r]$:\n",
    "\n",
    "* **Divide** by partitioning (rearranging) the array $A[p : r]$ into two (possible empty) subarrays $A[p : q - 1]$ (the **low side**) and $A[q + 1 : r]$ (the **high side**) such that each element in the low side of the partition is less than or equal to the **pivot** $A[q]$, which is, in turn, less than or equal to each element in the high side. Compute the index $q$ of the pivot as part of this partitioning procedure.\n",
    "* **Conquer** by calling quicksort recursively to sort each of the subarrays $A[p : q - 1]$ and $A[q + r : r]$.\n",
    "* **Combine** by doing nothing: because the two subarrays are already sorted, no work is needed to combine them. All elements in $A[p : q - 1]$ are sorted and less than or equal to $A[q]$, and all elements in $A[q + 1 : r]$ are sorted and greater than or equal to the pivot $A[q]$. The entire subarray $A[p : r]$ cannot help but be sorted!\n",
    "\n",
    "The $\\texttt{Quicksort}$ procedure implements quicksort. To sort an entire $n$-element array $A[1 : n]$, the initial call is $\\texttt{Quicksort}(A, 1, n)$.\n",
    "\n",
    "```\n",
    "Quicksort(A, p, r)\n",
    "[1] if p < r\n",
    "[2]     // Partition the subarray around the pivot, which ends up in $A[q]$.\n",
    "[3]     q = Partition(A, p, r)\n",
    "[4]     Quicksort(A, p, q - 1) // Recursively sort the low side\n",
    "[5]     Quicksort(A, q + 1, r) // Recursively sort the high side\n",
    "```"
   ],
   "id": "43d10a26395dd7d6"
  },
  {
   "metadata": {},
   "cell_type": "markdown",
   "source": [
    "## Partitioning the Array\n",
    "The key to the algorithm is the $\\texttt{Partition}$ procedure below, which rearranges the subarray $A[p : r]$ in place, returning the index of the dividing point between the two sides of the partition.\n",
    "\n",
    "```\n",
    "Partition(A, p, r)\n",
    "[1] x = A[r]                        // The pivot\n",
    "[2] i = p - 1                       // The highest index into the low side\n",
    "[3] for j = p to r - 1              // Process each element other than the pivot\n",
    "[4]     if A[j] <= x                // Does this element belong on the low side?\n",
    "[5]         i = i + 1               // Index of a new slot in the low side\n",
    "[6]         exchange A[i] with A[j] // Put this element there\n",
    "[7] exchange A[i + 1] with A[r]     // Pivot goes just to the right of the low side\n",
    "[8] return i + 1                    // New index of the pivot\n",
    "```"
   ],
   "id": "f17acb2a936d1cca"
  },
  {
   "metadata": {
    "ExecuteTime": {
     "end_time": "2024-07-22T22:19:25.149708Z",
     "start_time": "2024-07-22T22:19:25.146564Z"
    }
   },
   "cell_type": "code",
   "source": [
    "array = [13, 19, 9, 5, 12, 8, 7, 4, 21, 2, 6, 11]\n",
    "\n",
    "def partition(A, p, r):\n",
    "    x = A[r]\n",
    "    i = p - 1\n",
    "    for j in range(p, r):\n",
    "        if A[j] <= x:\n",
    "            i += 1\n",
    "            A[i], A[j] = A[j], A[i]\n",
    "    A[i + 1], A[r] = A[r], A[i + 1]\n",
    "    return i + 1\n",
    "\n",
    "partition_index = partition(array, 0, len(array) - 1)\n",
    "print(f\"Partition index: {partition_index}\\n\")\n",
    "print(f\"Array: {array}\")"
   ],
   "id": "e2b0e2d08f180102",
   "outputs": [
    {
     "name": "stdout",
     "output_type": "stream",
     "text": [
      "Partition index: 7\n",
      "\n",
      "Array: [9, 5, 8, 7, 4, 2, 6, 11, 21, 13, 19, 12]\n"
     ]
    }
   ],
   "execution_count": 10
  },
  {
   "metadata": {},
   "cell_type": "markdown",
   "source": [
    "Figure 7.1 shows how $\\texttt{Partition}$ works on an $8$-element array. $\\texttt{Partition}$ always selects the element $x = A[r]$ as the pivot. As the procedure runs, each element falls into exactly one of four regions, some of which may be empty. At the start of each iteration of the **for** loop in lines 3 - 6, the region satisfy certain properties, shown in Figure 7.2. We state these properties as a loop invariant:\n",
    "> At the beginning of each iteration of the loop of lines 3 - 6, for any array index $k$, the following conditions hold:\n",
    "> 1. if $p \\leq k \\leq i$, then $A[k] \\leq x$ (the tan region of Figure 7.2);\n",
    "> 2. if $i + 1 \\leq k \\leq j - 1$, then $A[k] > x$ (the blue region);\n",
    "> 3. if $k = r$, then $A[k] = x$ (the yellow region).\n",
    "\n",
    "<img src=\"Figure 7.1.png\" alt=\"Figure 7.1\" width=\"500\"/>\n",
    "\n",
    "<img src=\"Figure 7.2.png\" alt=\"Figure 7.2\" width=\"500\"/> \n",
    "\n",
    "We need to show that this loop invariant is true prior to the first iteration, that each iteration of the loop maintains the invariant, that the loop terminates, and that correctness follows from the invariant when the loop terminates.\n",
    "\n",
    "* **Initialization:** Prior to the first iteration of the loop, we have $i = p - 1$ and $j = p$. Because no value lie between $p$ and $i$ and no values lie between $i + 1$ and $j - 1$, the first two conditions of the loop invariant are trivially satisfied. The assignment in line 1 satisfies the third condition.\n",
    "* **Maintenance:** As Figure 7.3 shows, we consider two cases, depending on the outcome of the test in line 4. Figure 7.3(a) shows what happens when $A[j] > x$: the only action in the loop is to increment $j$. After $j$ has been incremented, the second condition holds for $A[j - 1]$ and all other entries remain unchanged. Figure 7.3(b) shows what happens when $A[j] \\leq x$: the loop increments $i$, swaps $A[i]$ and $A[j]$, and then increments $j$. Because of the swap, we now have that $A[i] \\leq x$, and condition $1$ is satisfied. Similarly, we also have that $A[j - 1] > x$, since the item that was swapped into $A[j - 1]$ is, by the loop invariant, greater than $x$.\n",
    "* **Termination:** Since the loop makes exactly $r - p$ iterations, it terminates, whereupon $j = r$. At that point, the unexamined subarray $A[j : r - 1]$ is empty, and every entry in the array belongs to one of the other three sets described by the invariant. Thus, the values in the array have been partitioned into three sets: those less than or equal to $x$ (the low side), those greater than $x$ (the high side), and a singleton set containing $x$ (the pivot).\n",
    "\n",
    "<img src=\"Figure 7.3.png\" alt=\"Figure 7.3\" width=\"500\"/> \n",
    "\n",
    "The final two lines of $\\texttt{Partition}$ finish up by swapping the pivot with the left-most element greater than $x$, thereby moving the pivot into its correct place in the partitioned array, and then returning the pivot's new index. The output of $\\texttt{Partition}$ now satisfies the specifications given for the divide step. In fact, it satisfies a slightly stronger condition: after line $3$ of $\\texttt{Quicksort}$, $A[q]$ is strictly less than every element of $A[q + 1 : r]$.\n",
    "\n",
    "Exercise 7.1-3 asks you to show that the running time of $\\texttt{Partition}$ on a subarray $A[p : r]$ of $n = r - p + 1$ elements is $\\Theta(n)$"
   ],
   "id": "64db511a06bc8650"
  }
 ],
 "metadata": {
  "kernelspec": {
   "display_name": "Python 3",
   "language": "python",
   "name": "python3"
  },
  "language_info": {
   "codemirror_mode": {
    "name": "ipython",
    "version": 2
   },
   "file_extension": ".py",
   "mimetype": "text/x-python",
   "name": "python",
   "nbconvert_exporter": "python",
   "pygments_lexer": "ipython2",
   "version": "2.7.6"
  }
 },
 "nbformat": 4,
 "nbformat_minor": 5
}

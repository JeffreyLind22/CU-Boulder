{
 "cells": [
  {
   "metadata": {},
   "cell_type": "markdown",
   "source": "# Introduction to Algorithms, 4th Edition: Part II Sorting and Order Statistics - Chapter 7 Quicksort - Section 7.3 A Randomized Version of Quicksort",
   "id": "2096460d68234c7b"
  },
  {
   "metadata": {},
   "cell_type": "markdown",
   "source": [
    "In exploring the average-case behavior of quicksort, we have assumed that all permutations of the input numbers are equally likely. This assumption does not always hold, however. Section 5.3 showed that judicious randomization can sometimes be added to an algorithm to obtain good expected performance over all inputs. For quicksort, randomization yields a fast and practical algorith. Many software libraries provide a randomized version of quicksort as their algorithm of choice for sorting large data sets.\n",
    "\n",
    "In Section 5.3, the $\\texttt{Randomized-Hire-Assistant}$ procedure explicitly permutes its inputs and then runs the deterministic $\\texttt{Hire-Assistant}$ procedure. We could do the same for quicksort as well, but a different randomization technique yields a simpler analysis. Instead of always using $A[r]$ as the pivot, a randomized version randomly chooses the pivot from the subarray $A[p : r]$, where each element in $A[p : r]$ has an equal probability of being chosen. It then exchanges that element with $A[r]$ before partitioning. Because the pivot is chosen randomly, we expect the split of the input array to be reasonably well-balanced on averaged.\n",
    "\n",
    "The changes to $\\texttt{Partition}$ and $\\texttt{Quicksort}$ are small. The new partitioning procedure, $\\texttt{Randomized-Partition}$, simply swaps before performing the partitioning. The new quicksort procedure, $\\texttt{Randomized-Quicksort}$, calls $\\texttt{Randomized-Partition}$ instead of $\\texttt{Partition}$. We'll analyze this algorithm in the next section.\n",
    "\n",
    "```\n",
    "Randomized-Partition(A, p, r)\n",
    "[1] i = Random(p, r]\n",
    "[2] exchange A[r] with A[i]\n",
    "[3] return Partition(A, p, r)\n",
    "\n",
    "Randomized-Quicksort(A, p, r)\n",
    "[1] if p < r\n",
    "[2]     q = Randomized-Partition(A, p, r)\n",
    "[3]     Randomized-Quicksort(A, p, q - 1)\n",
    "[4]     Randomized-Quicksort(A, q + 1, r)\n",
    "```"
   ],
   "id": "c01217063653593b"
  }
 ],
 "metadata": {
  "kernelspec": {
   "display_name": "Python 3",
   "language": "python",
   "name": "python3"
  },
  "language_info": {
   "codemirror_mode": {
    "name": "ipython",
    "version": 2
   },
   "file_extension": ".py",
   "mimetype": "text/x-python",
   "name": "python",
   "nbconvert_exporter": "python",
   "pygments_lexer": "ipython2",
   "version": "2.7.6"
  }
 },
 "nbformat": 4,
 "nbformat_minor": 5
}

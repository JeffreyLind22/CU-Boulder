{
 "cells": [
  {
   "metadata": {},
   "cell_type": "markdown",
   "source": "# Introduction to Algorithms, 4th Edition: Part III Data Structures - Introduction",
   "id": "e0e6d70e658b21d8"
  },
  {
   "metadata": {},
   "cell_type": "markdown",
   "source": [
    "This part presents several algorithms that solve the following **sort problem**:\n",
    "\n",
    "**Input:** A sequence of $n$ numbers $\\langle a_1, a_2, \\ldots, a_n \\rangle$\n",
    "\n",
    "**Output:** A permutation (reordering) $\\langle a_1^\\prime, a_2^\\prime, \\ldots, a_n^\\prime \\rangle$ of the input sequence such that $a_1^\\prime \\leq a_2^\\prime \\leq \\cdots \\leq a_n^\\prime$.\n",
    "\n",
    "The input sequence is usually an $n$-element array, although it may be represented in some other fashion, such as a linked list."
   ],
   "id": "c1f74971dce5aab9"
  },
  {
   "metadata": {},
   "cell_type": "markdown",
   "source": [
    "## The Structure of the Data\n",
    "The numbers to be sorted are usually part of a collection of data called a **record**. Each record contains a **key**, which is the value to be sorted. The remainder of the record consists of **satellite data**, which are usually carried around with the key."
   ],
   "id": "3cbd3a0b8583be2c"
  },
  {
   "metadata": {},
   "cell_type": "markdown",
   "source": [
    "## Sorting Algorithms\n",
    "We introduced two algorithms that sort $n$ real numbers in Chapter 2. Insertion sort takes $\\Theta\\left(n^2\\right)$ time in the worst case. Because its inner loops are tight, however, it is a fast sorting algorithm for small input sizes. Moreover, unlike merge sort, it sorts **in place**, meaning that at most a constant number of elements of the input array are ever stored outside the array, which can be advantageous for space efficiency. Merge sort has a better asymptotic running time, $\\Theta\\left(n\\lg{n}\\right)$, but the $\\texttt{Merge}$ procedure it uses does not operate in place."
   ],
   "id": "17100d4d88a90296"
  }
 ],
 "metadata": {
  "kernelspec": {
   "display_name": "Python 3",
   "language": "python",
   "name": "python3"
  },
  "language_info": {
   "codemirror_mode": {
    "name": "ipython",
    "version": 2
   },
   "file_extension": ".py",
   "mimetype": "text/x-python",
   "name": "python",
   "nbconvert_exporter": "python",
   "pygments_lexer": "ipython2",
   "version": "2.7.6"
  }
 },
 "nbformat": 4,
 "nbformat_minor": 5
}

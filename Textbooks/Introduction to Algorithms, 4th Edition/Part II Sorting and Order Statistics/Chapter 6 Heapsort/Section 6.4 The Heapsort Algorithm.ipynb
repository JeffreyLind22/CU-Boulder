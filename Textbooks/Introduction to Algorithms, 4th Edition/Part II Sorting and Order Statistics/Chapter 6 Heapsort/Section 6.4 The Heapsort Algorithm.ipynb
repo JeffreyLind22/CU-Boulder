{
 "cells": [
  {
   "metadata": {},
   "cell_type": "markdown",
   "source": "# Introduction to Algorithms, 4th Edition: Part II Sorting and Order Statistics - Chapter 6 Heapsort - Section 6.4 The Heapsort Algorithm",
   "id": "2096460d68234c7b"
  },
  {
   "metadata": {},
   "cell_type": "markdown",
   "source": [
    "The heapsort algorithm, given by the procedure $\\texttt{Heapsort}$, starts by calling the $\\texttt{Build-Max-Heap}$ procedure to build a max-heap on the input array $A[1:n]$. Since the maximum element of the array is stored at the root $A[1]$, $\\texttt{Heapsort}$ can place it into its correct final position by exchanging it with $A[n]$. If the procedure then discards node $n$ from the heap - and it can do so by simply decrementing $A.\\textit{heap-size}$ - the children of the root remain max-heaps, but the new root element might violate the max-heap property. To restore the max-heap property, the procedure just calls $\\texttt{Max-Heapify}(A, 1)$, which leaves a max-heap in $A[1:n-1]$. The $\\texttt{Heapsort}$ procedure then repeats this process for the max-heap of size $n-1$ down to a heap of size $2$.\n",
    "```\n",
    "Heapsort(A, n)\n",
    "[1] Build-Max-Heap(A, n)\n",
    "[2] for i = n downto 2\n",
    "[3]     exchange A[1] with A[i]\n",
    "[4]     A.heap-size = A.heap-size - 1\n",
    "[5]     Max-Heapify(A, 1)\n",
    "```\n",
    "\n",
    "The $\\texttt{Heapsort}$ procedure takes $O(n\\lg{n})$ time, since the call to $\\texttt{Build-Max-Heap}$ takes $O(n)$ time and each of the $n - 1$ calls to $\\texttt{Max-Heapify}$ takes $O(\\lg{n})$ time."
   ],
   "id": "899ecb74ba6f8b1f"
  }
 ],
 "metadata": {
  "kernelspec": {
   "display_name": "Python 3",
   "language": "python",
   "name": "python3"
  },
  "language_info": {
   "codemirror_mode": {
    "name": "ipython",
    "version": 2
   },
   "file_extension": ".py",
   "mimetype": "text/x-python",
   "name": "python",
   "nbconvert_exporter": "python",
   "pygments_lexer": "ipython2",
   "version": "2.7.6"
  }
 },
 "nbformat": 4,
 "nbformat_minor": 5
}

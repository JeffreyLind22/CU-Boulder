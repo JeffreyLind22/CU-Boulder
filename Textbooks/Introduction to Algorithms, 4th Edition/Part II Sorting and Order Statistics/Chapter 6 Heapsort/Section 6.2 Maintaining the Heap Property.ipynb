{
 "cells": [
  {
   "metadata": {},
   "cell_type": "markdown",
   "source": "# Introduction to Algorithms, 4th Edition: Part II Sorting and Order Statistics - Chapter 6 Heapsort - Section 6.2 Maintaining the Heap Property",
   "id": "2096460d68234c7b"
  },
  {
   "metadata": {},
   "cell_type": "markdown",
   "source": [
    "The procedure $\\texttt{Max-Heapify}$ below maintains the max-heap property.\n",
    "```\n",
    "Max-Heapify(A, i)\n",
    " [1] l = Left(i)\n",
    " [2] r = Right(i)\n",
    " [3] if l <= A.heap-size and A[l] > A[i]\n",
    " [4]     largest = l\n",
    " [5] else largest = i\n",
    " [6] if r <= A.heap-size and A[r] > A[largest]\n",
    " [7]     largest = r\n",
    " [8] if largest != i\n",
    " [9]     exchange A[i] with A[largest]\n",
    "[10]     Max-Heapify(A, largest)\n",
    "```\n",
    "Its inputs are an array $A$ with the *heap-size* attribute and an index $i$ into the array. When it is called, $\\texttt{Max-Heapify}$ assumes that the binary trees rooted at $\\texttt{Left}(i)$ and $\\texttt{Right}(i)$ are max-heaps, but that $A[i]$ might be smaller than its children, thus violating the max-heap property. $\\texttt{Max-Heapify}$ lets the value at $A[i]$ \"float down\" in the max-heap so that the subtree rooted at index $i$ obeys the max-heap property.\n",
    "\n",
    "Each recursive step determines the largest of the elements $A[i]$, $A[\\texttt{Left}(i)]$, and $A[\\texttt{Right}(i)]$ and stores the index of the largest element is *largest*. If $A[i]$ is largest, then the subtree rooted at node $i$ is already a max-heap and nothing else needs to be done. Otherwise, one of the two children contains the largest element. Positions $i$ and *largest* swap their contents, which causes node $i$ and its children to satisfy the max-heap property. The node indexed by *largest*, however, just had its value decreased, and thus the subtree rooted at *largest* might violate the max-heap property. Consequently, $\\texttt{Max-Heapify}$ calls itself recursively on that subtree.\n",
    "\n",
    "To analyze $\\texttt{Max-Heapify}$, let $T(n)$ be the worst-case running time that the procedure takes on a subtree of at most $n$. For a tree rooted at a given node $i$, the running time is the $\\Theta(1)$ time to fix up the relationships among the elements $A[i]$, $A[\\texttt{Left}(i)]$, and $A[\\texttt{Right}(i)]$, plus the time to run $\\texttt{Max-Heapify}$ on a subtree rooted at one of the children of node $i$ (assuming that the recursive call occurs). The children's subtrees each have size at most $\\frac{2n}{3}$, and therefore we can describe the running time of $\\texttt{Max-Heapify}$ by the recurrence\n",
    "$$\n",
    "T(n) \\leq T\\left(\\frac{2n}{3}\\right) + \\Theta(1) \\qquad \\textbf{(6.1)}\n",
    "$$"
   ],
   "id": "918c3ad893f2385b"
  }
 ],
 "metadata": {
  "kernelspec": {
   "display_name": "Python 3",
   "language": "python",
   "name": "python3"
  },
  "language_info": {
   "codemirror_mode": {
    "name": "ipython",
    "version": 2
   },
   "file_extension": ".py",
   "mimetype": "text/x-python",
   "name": "python",
   "nbconvert_exporter": "python",
   "pygments_lexer": "ipython2",
   "version": "2.7.6"
  }
 },
 "nbformat": 4,
 "nbformat_minor": 5
}

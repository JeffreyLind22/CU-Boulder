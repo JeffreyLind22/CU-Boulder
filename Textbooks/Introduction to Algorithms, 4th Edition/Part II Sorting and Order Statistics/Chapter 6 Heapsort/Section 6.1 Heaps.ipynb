{
 "cells": [
  {
   "metadata": {},
   "cell_type": "markdown",
   "source": "# Introduction to Algorithms, 4th Edition: Part II Sorting and Order Statistics - Chapter 6 Heapsort - Section 6.1 Heaps",
   "id": "2096460d68234c7b"
  },
  {
   "metadata": {},
   "cell_type": "markdown",
   "source": [
    "The **(binary) heap** data structure is an array object that we can view as a nearly complete binary tree. Each node of the tree corresponds to an element of the array. The tree is completely filled on all levels except possibly the lowest, which is filled from the left up to a point. An array $A[1:n]$ that represents a heap is an object with an attribute $A.\\textit{heap-size}$, which represents how many elements in the heap are stored within array $A$. That is, although $A[1:n]$a may contain numbers, only the elements in $A[1:A.\\textit{heap-size}]$, where $0 \\leq A.\\textit{heap-size} \\leq n$, are valid elements of the heap. If $A.\\textit{heap-size} = 0$, then the heap is empty. The root of the tree is $A[1]$, and given the index $i$ of a node, there's a simple way to compute the indices of its parent, left child, and right child with the one-line procedures $\\texttt{Parent}$, $\\texttt{Left}$, and $\\texttt{Right}$.\n",
    "\n",
    "```\n",
    "Parent(i)\n",
    "[1] return floor(i / 2)\n",
    "\n",
    "Left(i)\n",
    "[1] return 2i\n",
    "\n",
    "Right(i)\n",
    "[1] return 2i + 1\n",
    "```\n",
    "\n",
    "On most computers, the $\\texttt{Left}$ procedure can compute $2i$ in one instruction by simply shifting the binary representation of $i$ left by one bit position. Similarly, the $\\texttt{Right}$ procedure can quickly compute $2i + 1$ by shifting the binary representation of $i$ left by one bit position then adding $1$. The $\\texttt{Parent}$ procedure can compute $\\left\\lfloor \\frac{i}{2} \\right\\rfloor$ by shifting $i$ right one bit position. Good implementations of heapsort often implement these procedures as macros or inline procedures.\n",
    "\n",
    "There are two kinds of binary heaps: max-heaps and min-heaps. In both kinds, the values in the nodes satisfy a **heap property**, the specifics of which depend on the kind of heap. In a **max-heap**, the **max-heap property** is that for every node $i$ other than the root,\n",
    "$$\n",
    "A[\\texttt{Parent}(i)] \\geq A[i],\n",
    "$$\n",
    "that is, the value of a node is at most the value of its parent. Thus, the largest element in a max-heap is stored at the root, and the subtree rooted at a node contains values no larger than that contained in the node itself. A **min-heap** is organized in the opposite way: the **min-heap property** is that for every node $i$ other than the root,\n",
    "$$\n",
    "A[\\texttt{Parent}(i)] \\leq A[i].\n",
    "$$\n",
    "The smallest element in a min-heap is at the root.\n",
    "\n",
    "The heapsort algorithm uses max-heaps. Min-heaps commonly implement priority queues.\n",
    "\n",
    "Viewing a heap as a tree, we define the **height** of a node in a heap to be the number of edges on the longest simple downward path from the node to a leaf, and we define the height of the heap to be the height of its root. Since a heap of $n$ elements is based on a complete binary tree, its height is $\\Theta(\\lg{n})$."
   ],
   "id": "49526ca76632907a"
  }
 ],
 "metadata": {
  "kernelspec": {
   "display_name": "Python 3",
   "language": "python",
   "name": "python3"
  },
  "language_info": {
   "codemirror_mode": {
    "name": "ipython",
    "version": 2
   },
   "file_extension": ".py",
   "mimetype": "text/x-python",
   "name": "python",
   "nbconvert_exporter": "python",
   "pygments_lexer": "ipython2",
   "version": "2.7.6"
  }
 },
 "nbformat": 4,
 "nbformat_minor": 5
}

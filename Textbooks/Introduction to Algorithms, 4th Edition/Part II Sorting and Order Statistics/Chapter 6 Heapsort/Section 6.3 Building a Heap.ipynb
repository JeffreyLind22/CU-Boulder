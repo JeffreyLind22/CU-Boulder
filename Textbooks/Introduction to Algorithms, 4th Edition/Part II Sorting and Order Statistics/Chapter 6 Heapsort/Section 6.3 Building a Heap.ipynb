{
 "cells": [
  {
   "metadata": {},
   "cell_type": "markdown",
   "source": "# Introduction to Algorithms, 4th Edition: Part II Sorting and Order Statistics - Chapter 6 Heapsort - Section 6.3 Building a Heap",
   "id": "2096460d68234c7b"
  },
  {
   "metadata": {},
   "cell_type": "markdown",
   "source": [
    "The procedure $\\texttt{Build-Max-Heap}$ converts an array $A[1:n]$ into a max-heap by calling $\\texttt{Max-Heapify}$ in a bottom-up manner.\n",
    "```\n",
    "Build-Max-Heap(A, n)\n",
    "[1] A.heap-size = n\n",
    "[2] for i = floor(n/2) downto 1\n",
    "[3]     Max-Heapify(A, i)\n",
    "```\n",
    "The elements in the subarray $A\\left[\\left\\lfloor{\\frac{n}{2}}\\right\\rfloor + 1: n\\right]$ are all leaves of the tree, and so each is a 1-element heap to begin with. $\\texttt{Build-Max-Heap}$ goes through the remaining nodes of the tree and runs $\\texttt{Max-Heapify}$ on each one.\n",
    "\n",
    "To show why $\\texttt{Build-Max-Heap}$ works correctly, we use the following loop invariant:\n",
    "> At the start of each iteration of the **for** loop of lines 2-3, each node $i + 1, i + 2, \\ldots, n$ is the root of a max-heap.\n",
    "\n",
    "We need to show that this invariant is true prior to the first loop iteration, that each iteration of the loop maintains the invariant, that the loop terminates, and that the invariant provides a useful property to show correctness when the loop terminates.\n",
    "* **Initialization:** Prior to the first iteration of the loop, $i = \\left\\lfloor{\\frac{n}{2}}\\right\\rfloor$. Each node $\\left\\lfloor{\\frac{n}{2}}\\right\\rfloor + 1, \\left\\lfloor{\\frac{n}{2}}\\right\\rfloor + 2, \\ldots, n$ is a leaf and is thus the root of a trivial max-heap.\n",
    "* **Maintenance:** To see that each iteration maintains the loop invariant, observe that the children of node $i$ are numbered higher than $i$. By the loop invariant, therefore, they are both roots of max-heaps. This is precisely the condition required for the call $\\texttt{Max-Heapify(A, i)}$ to make node $i$ a max-heap root. Moreover, the $\\texttt{Max-Heapify}$ call preserves the property that nodes $i + 1, i + 2, \\ldots, n$ are all roots of max-heaps. Decrementing $i$ in the **for** loop update reestablishes the loop invariant for the next iteration.\n",
    "* **Termination:** The loop makes exactly $\\left\\lfloor{\\frac{n}{2}}\\right\\rfloor$ iterations, and so it terminates. At termination, $i = 0$. By the loop invariant, each node $1, 2, \\ldots, n$ is the root of a max-heap. In particular, node $1$ is.\n",
    "\n",
    "We can compute a simple upper bound on the running time $\\texttt{Build-Max-Heap}$ as follows. Each call to $\\texttt{Max-Heapify}$ costs $O(\\lg{n})$ time, and $\\texttt{Build-Max-Heap}$ makes $O(n)$ such calls. Thus, the running time is $O(n\\lg{n})$. This upper bound, though correct, is not as tight as it can be.\n",
    "\n",
    "We can derive a tighter asymptotic bound by observing that the time for $\\texttt{Max-Heapify}$ to run at a node varies with the height of the node in the tree, and that the heights of most nodes are small. Our tighter analysis relies on the properties that an $n$-element heap has height $\\left\\lfloor\\lg{n}\\right\\rfloor$ and at most $\\left\\lceil\\frac{n}{2^{h + 1}}\\right\\rceil$ nodes of any height $h$. After some work, we see that we can build a max-heap from an unordered array in $O(n)$ time."
   ],
   "id": "5f8fbd434aafb130"
  }
 ],
 "metadata": {
  "kernelspec": {
   "display_name": "Python 3",
   "language": "python",
   "name": "python3"
  },
  "language_info": {
   "codemirror_mode": {
    "name": "ipython",
    "version": 2
   },
   "file_extension": ".py",
   "mimetype": "text/x-python",
   "name": "python",
   "nbconvert_exporter": "python",
   "pygments_lexer": "ipython2",
   "version": "2.7.6"
  }
 },
 "nbformat": 4,
 "nbformat_minor": 5
}

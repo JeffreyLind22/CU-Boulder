{
 "cells": [
  {
   "metadata": {},
   "cell_type": "markdown",
   "source": "# Introduction to Algorithms, 4th Edition: Part I Foundations - Chapter 2 Getting Started - Section 2.1 Insertion Sort",
   "id": "4e8e89a0b8cdaf5"
  },
  {
   "metadata": {},
   "cell_type": "markdown",
   "source": [
    "### Definition: Sorting Problem, Key, Satellite Data, Record\n",
    "\n",
    "A sorting problem is defined as follows:\n",
    "\n",
    "**Input:** A sequence of $n$ numbers $\\langle a_1, a_2, \\ldots, a_n \\rangle$.\n",
    "\n",
    "**Output:** A permutation (reordering) $\\langle a^\\prime_1, a^\\prime_2, \\ldots, a^\\prime_n \\rangle$ of the input sequence such that $a^\\prime_1 \\leq a^\\prime_2 \\leq \\cdots \\leq a^\\prime_n$.\n",
    "\n",
    "The numbers to be sorted are also known as the keys. Although the problem is conceptually about sorting a sequence, the input comes as an array with $n$ elements. When we want to sort numbers, it's often because they are the keys associated with other data, called satellite data. Together, a key and satellite data form a record."
   ],
   "id": "e9312fd9ac93a93b"
  },
  {
   "metadata": {},
   "cell_type": "markdown",
   "source": "",
   "id": "4aa8539211392315"
  },
  {
   "metadata": {},
   "cell_type": "markdown",
   "source": [
    "### Insertion Sort\n",
    "\n",
    "The pseudocode for insertion sort is given as the procedure Insertion-Sort below:\n",
    "\n",
    "```\n",
    "Insertion-Sort(A, n)\n",
    "    for i = 2 to n\n",
    "        key = A[i]\n",
    "        // Insert A[i] into the sorted subarray A[1:i-1].\n",
    "        j = i - 1\n",
    "        while j > 0 and A[j] > key\n",
    "            A[j+1] = A[j]\n",
    "            j = j - 1\n",
    "        A[j+1] = key\n",
    "```\n",
    "\n",
    "It takes two parameters: an array $A$ containing the values to be sorted and the number $n$ of values to be sorted.\n",
    "\n",
    "The values occupy positions $A[1]$ through $A[n]$ of the array, which we denote by $A[1:n]$. When the Insertion-Sort procedure is finished, array $A[1:n]$ contains the original values, but in sorted order."
   ],
   "id": "6e6aa7884a31f6be"
  },
  {
   "metadata": {},
   "cell_type": "markdown",
   "source": [
    "### Loop Invariants and the Correctness of Insertion Sort\n",
    "Consider an array $A$ that starts out with the sequence $\\langle 5, 2, 4, 6, 1, 3 \\rangle$. The index $i$ represents the \"current card\" being inserted into the hand. At the beginning of each iteration of the **for** loop, which is indexed by $i$, the subarray (a contiguous portion of the array) consisting of elements $A[1:i-1]$ constitute the currently sorted hand, and the remaining subarray $A[i+1:n]$ corresponds to the pile of cards still on the table. In fact, elements $A[1:i-1]$ are the elements originally in positions $1$ through $i-1$, but now in sorted order. We state these properties of $A[1:i-1]$ formally as a loop invariant:\n",
    "\n",
    "At the start of each iteration of the for loop, the subarray $A[1:i-1]$ consists of the elements originally in $A[1:i-1]$, but in sorted order.\n",
    "\n",
    "Loop invariants help us understand why an algorithm is correct. When you're using a loop invariant, you need to show three things:\n",
    "\n",
    "**Initialization:** It is true prior to the first iteration of the loop\n",
    "\n",
    "**Maintenance:** If it is true before an iteration of the loop, it remains true before the next iteration.\n",
    "\n",
    "**Termination:** The loop terminates, and when it terminates, the invariant - usually along with the reason that the loop terminated - gives us a useful property that helps show that the algorithm is correct\n",
    "\n",
    "Let's see how these properties hold for insertion sort:\n",
    "\n",
    "**Initialization:** We start by showing that the loop invariant holds before the first iteration, when $i=2$. The subarray $A[1:i-1]$ consists of just the single element $A[1]$, which is in fact the original element in $A[1]$. Moreover, this subarray is sorted since it only contains one element, which shows that the loop invariant holds before the first iteration of the loop.\n",
    "\n",
    "**Maintenance:** Next, we tackle the second property: showing that each iteration maintains the loop invariant. Informally, the body of the **for** loop works by moving the values in $A[i-1]$, $A[i-2]$, $A[i-3]$, and so on by one position to the right until it finds the proper position for $A[i]$, at which points it inserts the value of $A[i]$. The subarray $A[1:i]$ then consists of the elements originally in $A[1:i]$, but now in sorted order. Incrementing $i$ for the next iteration of the **for** loop then preserves the loop invariant.\n",
    "\n",
    "**Termination:** Finally, we examine the loop termination. The loop variable $i$ starts at 2 and increases by 1 for each iteration. Once the value of $i$ exceeds $n$, the loop terminates. That is, the loop terminates once $i = n + 1$. Substituting $n+1$ for $i$ in the statement of the loop invariant yields that the subarray $A[1:n]$ consists of the elements originally in $A[1:n]$, but in sorted order. Hence, the algorithm is correct.\n"
   ],
   "id": "7c3d537388a475ee"
  },
  {
   "metadata": {},
   "cell_type": "markdown",
   "source": "## Exercises",
   "id": "8c011ffb19e74968"
  },
  {
   "metadata": {},
   "cell_type": "markdown",
   "source": [
    "### 2.1-1\n",
    "**Illustrate the operation of Insertion-Sort on an array initially containing the sequence $\\langle 31, 41, 59, 26, 41, 58\\rangle$.**\n",
    "\n",
    "<img src=\"Exercise 2.1-1.jpeg\" alt=\"Exercise 2.1-1\" width=\"500\"/>"
   ],
   "id": "e7aed6910c2abb75"
  },
  {
   "metadata": {},
   "cell_type": "markdown",
   "source": [
    "### 2.1-2\n",
    "**Consider the procedure Sum-Array. It computes the sum of the $n$ numbers in array $A[1:n]$. State a loop invariant for this procedure, and use its initialization, maintenance, and termination properties to show that the Sum-Array procedure returns the sum of the numbers in $A[1:n]$.**\n",
    "\n",
    "```\n",
    "Sum-Array(A, n)\n",
    "    sum = 0\n",
    "    for i=1 to n\n",
    "        sum = sum + A[i]\n",
    "    return sum\n",
    "```\n",
    "\n",
    "The loop invariant for Sum-Array is: At the start of each iteration of the **for** loop, *sum* contains the sum of all elements in $A[1:i-1]$.\n",
    "\n",
    "**Initialization:** Whenever $i = 1$, $A[1:i-1] = A[1:0] = \\emptyset$. If we \"define\" $\\text{sum} + \\emptyset = 0 + \\emptyset = 0$, then *sum* contains the sum of all elements in $A[1:i-1]$.\n",
    "\n",
    "**Maintenance:** At the beginning of the $i$th iteration, $\\text{sum} = A[1] + A[2] + \\ldots + A[i-1]$. Then, since the operation $\\text{sum} = \\text{sum} + A[i] = A[1] + A[2] + \\ldots + A[i-1] + A[i]$ is performed, for the $i+1$th iteration, *sum* is equal to the sum all the elements in $A[1:i]$, which is an equivalent statement to the loop invariant.\n",
    "\n",
    "**Termination:** Once the value of $i$ exceeds $n$, that is, $i = n + 1$, the loop terminates. Substituting this into the loop invariant statement yields that *sum* contains the sum of all elements in $A[1:n]$, and thus the procedure is correct."
   ],
   "id": "9dd1e2653b331593"
  },
  {
   "metadata": {},
   "cell_type": "markdown",
   "source": [
    "### 2.1-3\n",
    "**Rewrite the Insertion-Sort procedure to sort into monotonically decreasing instead of monotonically increasing order.**"
   ],
   "id": "d14efef6c0729793"
  },
  {
   "metadata": {
    "ExecuteTime": {
     "end_time": "2024-07-13T16:11:30.144153Z",
     "start_time": "2024-07-13T16:11:30.140610Z"
    }
   },
   "cell_type": "code",
   "source": [
    "array = [5, 2, 4, 6, 1, 3]\n",
    "cardinality = len(array)\n",
    "\n",
    "for i in range(1, cardinality):\n",
    "    key = array[i]\n",
    "    j = i - 1\n",
    "    while j >= 0 and array[j] < key:\n",
    "        array[j+1] = array[j]\n",
    "        j -= 1\n",
    "    array[j+1] = key"
   ],
   "id": "33e3355e47161914",
   "outputs": [],
   "execution_count": 8
  },
  {
   "metadata": {},
   "cell_type": "markdown",
   "source": [
    "### 2.1-4\n",
    "**Consider the searching problem:**\n",
    "\n",
    "**Input:** A sequence of $n$ numbers $\\langle a_1, a_2, \\ldots, a_n \\rangle$ stored in array $A[1:n]$ and a value $x$.\n",
    "\n",
    "**Output:** An index $i$ such that $x = A[i]$ or the special value *nil* if $x$ does not appear in $A$.\n",
    "\n",
    "**Write pseudocode for linear search, which scans through the array from beginning to end, looking for $x$. Using a loop invariant, prove that your algorithm is correct. Make sure that your loop invariant fulfills the three necessary properties.**\n",
    "\n",
    "```\n",
    "Linear-Search(A, n, x)\n",
    "    for i=1 to n\n",
    "        if A[i] == x\n",
    "            return i\n",
    "    return nil\n",
    "```\n",
    "\n",
    "The loop invariant is: at the beginning of each iteration, $x$ is not in $A[1:i-1]$.\n",
    "\n",
    "**Initialization:** When $i = 1$, $A[1:i-1] = A[1:0] = \\emptyset$, and since there does not exist any elements in $\\emptyset$, $x$ is not in $A$.\n",
    "\n",
    "**Maintenance:** At the beginning of the $i$th iteration, $A[1:i-1]$ does not contain $x$ since Linear-Search would have returned in the previous iteration, thus $A[i-1]$ does not contain $x$.\n",
    "\n",
    "**Termination:** The loop terminates when $i = n + 1$ if $x$ is not in $A[1:i-1]$. If $x = A[n]$, then the loop terminates. Else, substituting this into the loop invariant gives that $x$ is not in $A[1:n]$."
   ],
   "id": "cff9c194a6a87942"
  },
  {
   "metadata": {},
   "cell_type": "markdown",
   "source": [
    "### 2.1-5\n",
    "**Consider the problem of adding two $n$-bit binary integers $a$ and $b$, stored in two $n$-element arrays $A[0:n-1]$ and $B[0:n-1]$, where each element is either 0 or 1, $a = \\sum_{i = 0}^{n-1} A[i] \\cdot 2^i$, and $b = \\sum_{i = 0}^{n-1} B[i] \\cdot 2^i$. The sum $c = a + b$ of the two integers should be stored in binary form in an ($n+1$)-element array $C[0:n]$, where $c = \\sum_{i=0}^{n} C[i] \\cdot 2^i$. Write a procedure Add-Binary-Integers that takes as input arrays $A$ and $B$, along with the length $n$, and returns array $C$ holding the sum.**\n",
    "\n",
    "Suppose $A = \\left[A_0, A_1, A_2, \\ldots, A_{n-1}\\right]$ and $B = \\left[B_0, B_1, B_2, \\ldots, B_{n-1}\\right]$. Then, $a = \\sum_{i=0}^{n-1} A[i] \\cdot 2^i = A_0 + 2A_1 + 4A_2 + \\ldots + A_{n-1} \\cdot 2^{n-1}$ and $b = \\sum_{i=0}^{n-1} B[i] \\cdot 2^i = B_0 + 2B_1 + 4B_2 + \\ldots + B_{n-1} \\cdot 2^{n-1}$. So, $c = a + b = A_0 + 2A_1 + 4A_2 + \\ldots + A_{n-1} \\cdot 2^{n-1} + B_0 + 2B_1 + 4B_2 + \\ldots + B_{n-1} \\cdot 2^{n-1}$. Then, by transitivity, $c = \\sum_{i=0}^{n} C[i] \\cdot 2^i = C_0 + 2C_1 + 4C_2 + \\ldots + C_{n-1} \\cdot 2^{n-1}$\n",
    "```\n",
    "Add-Binary-Integers(A, B, n)\n",
    "    a = 0\n",
    "    b = 0\n",
    "    for i=0 to n-1\n",
    "        a = a + (A[i] * 2**i)\n",
    "        b = b + (B[i] * 2**i)\n",
    "    c = a + b\n",
    "    C = []\n",
    "    for i = n downto 0\n",
    "        if 2**i <= c\n",
    "            C.insert(0, 1)\n",
    "            c = c - 2**i\n",
    "        else\n",
    "            C.insert(0, 0)\n",
    "    return C\n",
    "```"
   ],
   "id": "15e41b902b898787"
  }
 ],
 "metadata": {
  "kernelspec": {
   "display_name": "Python 3",
   "language": "python",
   "name": "python3"
  },
  "language_info": {
   "codemirror_mode": {
    "name": "ipython",
    "version": 2
   },
   "file_extension": ".py",
   "mimetype": "text/x-python",
   "name": "python",
   "nbconvert_exporter": "python",
   "pygments_lexer": "ipython2",
   "version": "2.7.6"
  }
 },
 "nbformat": 4,
 "nbformat_minor": 5
}

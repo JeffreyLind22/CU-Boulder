{
 "cells": [
  {
   "metadata": {},
   "cell_type": "markdown",
   "source": "# Introduction to Algorithms, 4th Edition: Part I Foundations - Chapter 2 Getting Started - Section 2.2 Analyzing Algorithms",
   "id": "3a6a8d9f2bfef717"
  },
  {
   "metadata": {},
   "cell_type": "markdown",
   "source": [
    "### Definition: Input Size\n",
    "Input size is dependent on the problem being studied. For many problems, such as sorting problems or discrete Fourier transforms, the most natural measure is the number of items in the input. For many other problems, such as multiplying two integers, the best measure of input size is the total number of bits needed to represent the input in ordinary binary notation. In other cases, the input size requires more than just one number to represent."
   ],
   "id": "b8fb832d0f28cf86"
  },
  {
   "metadata": {},
   "cell_type": "markdown",
   "source": [
    "\n",
    "### Definition: Running Time\n",
    "The running time of an algorithm on a particular input is the number of instructions and data accesses executed. How we account for these costs should be independent of any particular computer, but within the framework of the RAM model. For the moment, let's adopt the following view. A constant amount of time is required to execute each line of our pseudocode. One line might take more or less time than another line, but we'll assume that each execution of the $k$th line takes $c_k$ time, where $c_k$ is a constant."
   ],
   "id": "64bfe55f473cb0d1"
  },
  {
   "metadata": {},
   "cell_type": "markdown",
   "source": [
    "### Analysis of Insertion Sort\n",
    "To analyze the Insertion-Sort procedure, let's view it below with the time cost of each statement and the number of times each statement is executed.\n",
    "\n",
    "<img src=\"Insertion Sort.png\" alt=\"Insertion Sort\" width=\"500\"/>\n",
    "\n",
    "For each $i = 2, 3, \\ldots, n$, let $t_i$ denote the number of times the **while** loop test in line 5 is executed for that value of $i$. When a **for** or **while** loop exits in the usual way - because the test in the loop header comes up false, the test is executed one time more than the loop body. Because comments are not executable statements, assume that they take no time.\n",
    "\n",
    "The running time of an algorithm is the sum of running times for each statement executed. A statement that takes $c_k$ steps to execute and executes $m$ times contributes $c_km$ to the total running time. We usually denote the running time of an algorithm on an input size of $n$ by $T\\left(n\\right)$. To compute $T\\left(n\\right)$, the running time of Insertion-Sort on an input of $n$ values, we sum the products of the *cost* and *times* columns, obtaining $T\\left(n\\right) = c_1n + c_2(n-1) + c_4(n-1) + c_5 \\sum_{i=2}^n _i + c_6 \\sum_{i=2}^n (t_i - 1) + c_7 \\sum_{i=2}^n (t_i - 1) + c_8 (n-1)$\n",
    "\n",
    "Even for inputs of a given size, an algorithm's running time may depend on which input of that size is given. For example, in Insertion-Sort, the best case occurs when the array is already sorted. In this case, each time that line 5 executes, the value of *key* - the value originally in $A[i]$ - is already greater than or equal to all values in $A[1:i-1]$, so that the **while** loop of lines 5-7 always exits upon the first test in line 5. Therefore, we have that $t_i = 1$ for $i = 2, 3, \\ldots, n$, and the best case running time is given by\n",
    "$$\n",
    "T\\left(n\\right) = c_1n + c_2 (n - 1) + c_4 (n - 1) + c_5 (n - 1) + c_8 (n - 1) = n(c_1 + c_2 + c_4 + c_5 + c_8) - (c_2 + c_4 + c_5 + c_8) \\quad \\mathbf{\\left(2.1\\right)}\n",
    "$$\n",
    "\n",
    "We can express this running time as $an + b$ for constants $a$ and $b$ that depend on the statement costs $c_k$. The running time is thus a linear function of $n$.\n",
    "\n",
    "The worst case occurs when the array is in reverse sorted order - that is, it starts out in decreasing order. The procedure must compare each element $A[i]$ with each element in the entire sorted subarray $A[1:i-1]$, and so $t_i = i$ for $i = 2, 3, \\ldots, n$. Noting that\n",
    "$$\n",
    "\\sum_{i=2}^n i = \\left(\\sum_{i=1}^n i\\right) - 1 = \\frac{n(n+1)}{2} - 1\n",
    "$$\n",
    "and\n",
    "$$\n",
    "\\sum_{i=2}^n (i-1) = \\sum_{i=1}^{n-1} i = \\frac{n(n-1)}{2}\n",
    "$$\n",
    "we fine that in the worst case, the running time of Insertion-Sort is\n",
    "$$\n",
    "T\\left(n\\right) = c_1 n + c_2 (n-1) + c_4(n-1) + c_5 \\left(\\frac{n(n+1)}{2} - 1 \\right) + \\frac{c_6 n\\left(n-1\\right)}{2} + \\frac{c_7 n\\left(n-1\\right)}{2} + c_8\\left(n-1\\right) = n^2 \\left(\\frac{c_5}{2} + \\frac{c_6}{2} + \\frac{c_7}{2} \\right) + n\\left(c_1 + c_2 + c_4 + \\frac{c_5}{2} - \\frac{c_6}{2} - \\frac{c_7}{2} + c_8\\right) - \\left(c_2 + c_4 + c_5 + c_8\\right) \\quad \\mathbf{\\left(2.2\\right)}\n",
    "$$\n",
    "\n",
    "We can express this worst-case running time as $an^2 + bn + c$ for constants $a$, $b$, and $c$ that again depend on the statement cost $c_k$. The running time is thus a quadratic function of $n$."
   ],
   "id": "378b6e826381ad08"
  },
  {
   "metadata": {},
   "cell_type": "markdown",
   "source": "## Exercises",
   "id": "8a9027993c74424c"
  },
  {
   "metadata": {},
   "cell_type": "markdown",
   "source": [
    "### 2.2-1\n",
    "**Express the function $\\frac{n^3}{1000} + 100n^2 - 100n + 3$ in terms of $\\Theta$-notation**\n",
    "\n",
    "$\\Theta\\left(n^3\\right)$"
   ],
   "id": "90b1e9a259841570"
  },
  {
   "metadata": {},
   "cell_type": "markdown",
   "source": [
    "### 2.2-2\n",
    "**Consider sorting $n$ numbers stored in array $A[1:n]$ by first finding the smallest element of $A[1:n]$ and exchanging it with the element in $A[1]$. Then find the smallest element of $A[2:n]$ and exchange it with $A[2]$. Then find the smallest element of $A[3:n]$ and exchange it with $A[3]$. Continue in this manner for the first $n-1$ elements of $A$. Write pseudocode for this algorithm, which is known as selection sort. What loop invariant does this algorithm maintain? Why does it only need to run for the first $n-1$ elements, rather than for all $n$ elements? Give the worst-case running time of selection sort in $\\Theta$-notation. Ιs the best-case running time any better?**\n",
    "\n",
    "```\n",
    "Selection-Sort(A, n)                    // [#] [Cost] [Times                  ]\n",
    "    for i=1 to n-1                      // [1] [c_1 ] [n                      ]\n",
    "        smallest_index = i              // [2] [c_2 ] [n-1                    ]\n",
    "        j = i + 1                       // [3] [c_3 ] [n-1                    ]\n",
    "        while j <= n                    // [4] [c_4 ] [sum_{i=1}^{n} t_i      ]\n",
    "            if A[j] < A[smallest_index] // [5] [c_5 ] [sum_{i=1}^{n} (t_i - 1)]\n",
    "                smallest_index = j      // [6] [c_6 ] [sum_{i=1}^{n} (t_i - 1)]\n",
    "            j = j + 1                   // [7] [c_7 ] [sum_{i=1}^{n} (t_i - 1)]\n",
    "        swap(A[smallest_index], A[i])   // [8] [c_8 ] [n-1                    ]\n",
    "    return A\n",
    "```\n",
    "\n",
    "The loop invariant is: At the beginning of each iteration, $A[1:i-1]$ is sorted and contains the smallest elements from $A[1:n]$. The algorithm only needs to run for $n-1$ times, since on the $n-1$th iteration, $A[n]$ is guaranteed to be in the correct position since it will be the largest element of $A[1:n]$.\n",
    "\n",
    "The best-case and worst-case running times for the algorithm is $\\Theta\\left(n^2\\right)$. They are equal because for all possible input arrays, each element will have to be iterated over ($i$), as well as the \"linear search\" step ($j$)."
   ],
   "id": "19b55737d71b92d4"
  },
  {
   "metadata": {
    "ExecuteTime": {
     "end_time": "2024-07-13T20:04:03.139750Z",
     "start_time": "2024-07-13T20:04:03.135845Z"
    }
   },
   "cell_type": "code",
   "source": [
    "A = [2, 5, 7, 134, 34]\n",
    "n = len(A)\n",
    "\n",
    "for i in range(0, n):\n",
    "    smallest_index = i\n",
    "    j = i + 1\n",
    "    while j < n:\n",
    "        if A[smallest_index] > A[j]:\n",
    "            smallest_index = j\n",
    "        j += 1\n",
    "    temp = A[smallest_index]\n",
    "    A[smallest_index] = A[i]\n",
    "    A[i] = temp"
   ],
   "id": "12e8c9d967b7f095",
   "outputs": [],
   "execution_count": 9
  },
  {
   "metadata": {},
   "cell_type": "markdown",
   "source": [
    "### 2.2-3\n",
    "**Consider linear search again. How many elements of the input array need to be checked on average, assuming that the element being searched for is equally likely to be any element in the array? How about in the worst case? Using $\\Theta$-notation, give the average-case and worst-case running times of linear search. Justify your answers.**\n",
    "\n",
    "The average case would occur when $x$ is in the middle of the array. The worst case would occur when $x$ is not in the array, as all elements would have to be checked. In the average case, the **for** loop would have to iterate $\\frac{n}{2}$ times (assuming $x$ is in the exact middle of the array); additionally, in the worst case, the **for** loop would have to iterate $n$ times. Thus, for both cases, the running time is $\\Theta\\left(n\\right)$."
   ],
   "id": "6255bf403cbe7b06"
  },
  {
   "metadata": {},
   "cell_type": "markdown",
   "source": [
    "### 2.2-4\n",
    "**How can you modify any sorting algorithm to have a good best-case running time?**\n",
    "\n",
    "You could always do an initial check to see if the array is already in the correct order and simply return the array."
   ],
   "id": "2db7758cb8f1852c"
  }
 ],
 "metadata": {
  "kernelspec": {
   "display_name": "Python 3",
   "language": "python",
   "name": "python3"
  },
  "language_info": {
   "codemirror_mode": {
    "name": "ipython",
    "version": 2
   },
   "file_extension": ".py",
   "mimetype": "text/x-python",
   "name": "python",
   "nbconvert_exporter": "python",
   "pygments_lexer": "ipython2",
   "version": "2.7.6"
  }
 },
 "nbformat": 4,
 "nbformat_minor": 5
}

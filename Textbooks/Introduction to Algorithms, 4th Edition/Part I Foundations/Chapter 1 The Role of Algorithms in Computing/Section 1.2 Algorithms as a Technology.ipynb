{
 "cells": [
  {
   "metadata": {},
   "cell_type": "markdown",
   "source": "# Introduction to Algorithms, 4th Edition: Part I Foundations -  Chapter 1 The Role of Algorithms in Computing - Section 1.2 Algorithms as a Technology",
   "id": "73e1b594b4c364f8"
  },
  {
   "metadata": {},
   "cell_type": "markdown",
   "source": [
    "### Efficiency\n",
    "An example of a sorting algorithm, insertion sort, takes time roughly equal to $c_1n^2$ to sort $n$ items, where $c_1$ is a constant that is not a function of $n$. That is, it takes time roughly proportional to $n^2$.\n",
    "\n",
    "Another example, merge sort, takes time roughly equal to $c_2n\\lg n$, where $\\lg n \\equiv \\log_2n$ and $c_2$ is another constant that also does not depend on $n$.\n",
    "\n",
    "Insertion sort typically has a smaller constant factor than merge sort, so that $c_1 < c_2$. We'll also see that the constant factor can have far less of an impact on the running time than the dependence on the input size $n$."
   ],
   "id": "2a63a8ec513188d6"
  },
  {
   "metadata": {},
   "cell_type": "markdown",
   "source": "",
   "id": "1f644ce05f13ce4c"
  },
  {
   "metadata": {},
   "cell_type": "markdown",
   "source": "## Exercises ",
   "id": "9f91781b678be7ac"
  },
  {
   "metadata": {},
   "cell_type": "markdown",
   "source": [
    "### 1.2-1\n",
    "**Give an example of an application that requires algorithmic content at the application level, and discuss the function of the algorithms involved.**\n",
    "\n",
    "The Apple Reminders app must be able to sort reminders by date and time, thus providing a chronological view of the upcoming reminders"
   ],
   "id": "9c946971bc49cfa"
  },
  {
   "metadata": {},
   "cell_type": "markdown",
   "source": [
    "### 1.2-2\n",
    "**Suppose that for inputs of size $n$ on a particular computer, insertion sort runs in $8n^2$ steps and merge sort runs in $64n\\lg n$ steps. For which values of $n$ does insertion sort beat merge sort?**\n",
    "\n",
    "Insertion sort beats merge sort for all input sizes $n$ such that $8n^2 < 64n\\lg n \\implies \\frac{n}{8} < \\lg n \\implies 2^\\frac{n}{8} < n$ and since $n \\in \\mathbb{Z}^+$, insertion sort beats merge sort $\\forall n \\left(2 \\leq n \\leq 43\\right)$."
   ],
   "id": "b5f94c6ba6e4f8cc"
  },
  {
   "metadata": {},
   "cell_type": "markdown",
   "source": [
    "### 1.2-3\n",
    "**What is the smallest value of $n$ such that an algorithm whose running time is $100n^2$ runs faster than an algorithm whose running time is $2^n$ on the same machine?**\n",
    "\n",
    "The smallest value of $n$ such that an algorithm with running time $100n^2$ runs faster than an algorithm with running time $2^n$ is the smallest value of $n$ such that $100n^2 < 2^n$. The smallest $n \\in \\mathbb{Z}^+$ such that this inequality holds is $n = 15$."
   ],
   "id": "4c452d88606fc311"
  },
  {
   "metadata": {},
   "cell_type": "markdown",
   "source": "",
   "id": "ad47b84c2d19173d"
  }
 ],
 "metadata": {
  "kernelspec": {
   "display_name": "Python 3",
   "language": "python",
   "name": "python3"
  },
  "language_info": {
   "codemirror_mode": {
    "name": "ipython",
    "version": 2
   },
   "file_extension": ".py",
   "mimetype": "text/x-python",
   "name": "python",
   "nbconvert_exporter": "python",
   "pygments_lexer": "ipython2",
   "version": "2.7.6"
  }
 },
 "nbformat": 4,
 "nbformat_minor": 5
}

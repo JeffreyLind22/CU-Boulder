{
 "cells": [
  {
   "metadata": {},
   "cell_type": "markdown",
   "source": "# Introduction to Algorithms, 4th Edition: Part I Foundations -  Chapter 1 The Role of Algorithms in Computing - Problems",
   "id": "fc407324d3178ce3"
  },
  {
   "metadata": {},
   "cell_type": "markdown",
   "source": [
    "### 1-1 Comparison of Running Times\n",
    "**For each function $f\\left(n\\right)$ and time $t$ in the following table, determine the largest size $n$ of a problem that can be solved in time $t$, assuming that the algorithm to solve the problem takes $f\\left(n\\right)$ microseconds**\n",
    "\n",
    "|            | 1 Second   | 1 Minute | 1 Hour | 1 Day | 1 Month | 1 Year | 1 Century |\n",
    "|------------|------------|----------|--------|-------|---------|--------|-----------|\n",
    "| $\\lg n$    | $2^{10^6}$ |          |        |       |         |        |           |\n",
    "| $\\sqrt{n}$ |            |          |        |       |         |        |           |\n",
    "| $n$        |            |          |        |       |         |        |           |\n",
    "| $n \\lg n$  |            |          |        |       |         |        |           |\n",
    "| $n^2$      |            |          |        |       |         |        |           |\n",
    "| $n^3$      |            |          |        |       |         |        |           |\n",
    "| $2^n$      |            |          |        |       |         |        |           |\n",
    "| $n!$       |            |          |        |       |         |        |           |\n",
    "\n",
    "\n",
    "Suppose for any input size n, the algorithm takes $f\\left(n\\right)$ microseconds. So, for if $f\\left(n\\right) = \\lg n$ microseconds, then the largest input size $n$ such that the algorithm executes in less than 1 seconds = $10^6$ microseconds is the $n$ such that $\\lg n = 10^6 \\implies 2^{10^6} = n$. Continue this process for the rest of the entries."
   ],
   "id": "1c2f73a16b774b47"
  }
 ],
 "metadata": {
  "kernelspec": {
   "display_name": "Python 3",
   "language": "python",
   "name": "python3"
  },
  "language_info": {
   "codemirror_mode": {
    "name": "ipython",
    "version": 2
   },
   "file_extension": ".py",
   "mimetype": "text/x-python",
   "name": "python",
   "nbconvert_exporter": "python",
   "pygments_lexer": "ipython2",
   "version": "2.7.6"
  }
 },
 "nbformat": 4,
 "nbformat_minor": 5
}

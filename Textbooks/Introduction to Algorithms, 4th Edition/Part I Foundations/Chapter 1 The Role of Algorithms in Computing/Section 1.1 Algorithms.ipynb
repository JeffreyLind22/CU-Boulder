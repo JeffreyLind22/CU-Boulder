{
 "cells": [
  {
   "metadata": {},
   "cell_type": "markdown",
   "source": "# Introduction to Algorithms, 4th Edition: Part I Foundations -  Chapter 1 The Role of Algorithms in Computing - Section 1.1 Algorithms",
   "id": "d2aa0c2e9a653b5e"
  },
  {
   "metadata": {},
   "cell_type": "markdown",
   "source": [
    "### Informal Definition: Algorithm\n",
    "Informally, an algorithm is any well-defined computational procedure that takes some value, or set of values, as input and produces some value, or set of values, as output in a finite amount of time\n",
    "\n",
    "An algorithm is thus a sequence of computational steps that transform the input into the output.\n",
    "\n",
    "You can also view an algorithm as a tool for solving a well-specified computational problem.# "
   ],
   "id": "8c077dc17645ef37"
  },
  {
   "metadata": {},
   "cell_type": "markdown",
   "source": [
    "### Definition: Sorting Problem\n",
    "**Input:** A sequence of $n$ numbers $\\langle a_1, a_2, \\ldots, a_n \\rangle$.\n",
    "\n",
    "**Output:** A permutation (reordering) $\\langle a^\\prime_1, a^\\prime_2, \\ldots, a^\\prime_n \\rangle$ of the input sequence such that $a^\\prime_1 \\leq a^\\prime_2 \\leq \\cdots \\leq a^\\prime_n$."
   ],
   "id": "8c991f812b97f209"
  },
  {
   "metadata": {},
   "cell_type": "markdown",
   "source": [
    "### Definition: Instance of a Problem\n",
    "An instance of a problem consists of the input (satisfying whatever constraints are imposed in the problem statement) needed to compute a solution to the problem."
   ],
   "id": "4913ec2fc7bd3923"
  },
  {
   "metadata": {},
   "cell_type": "markdown",
   "source": [
    "### Definition: Correct, Halts, Solves\n",
    "An algorithm for a computational problem is correct if, for every problem instance provided as input, it halts - finishes its computing in finite time - and outputs the correct solution to the problem instance. A correct algorithm solves the given computational problem."
   ],
   "id": "adfec90c376a1975"
  },
  {
   "metadata": {},
   "cell_type": "markdown",
   "source": [
    "### Definition: Data Structure\n",
    "A data structure is a way to store and organize data in order to facilitate modification and access."
   ],
   "id": "9666e93193d49c90"
  },
  {
   "metadata": {},
   "cell_type": "markdown",
   "source": "## Exercises",
   "id": "2c197a0b1f95dfe9"
  },
  {
   "metadata": {},
   "cell_type": "markdown",
   "source": [
    "### 1.1-1\n",
    "**Describe your own real-world example that requires sorting. Describe one that requires finding the shortest distance between two points.**\n",
    "\n",
    "Playing a card game often requires some degree of sorting and organizing. Driving from home and work requires finding (via Apple Maps) the shortest distance between two points given conditions such as traffic, construction, etc."
   ],
   "id": "239c9579fb2588dc"
  },
  {
   "metadata": {},
   "cell_type": "markdown",
   "source": [
    "## 1.1-2\n",
    "**Other than speed, what other measures of efficiency might you need to consider in a real-world setting?**\n",
    "\n",
    "In real-world settings, factors such as energy usage, noise emissions, and maintainability weigh into the algorithm design and selection process."
   ],
   "id": "6c68f35f7a6ec27"
  },
  {
   "metadata": {},
   "cell_type": "markdown",
   "source": [
    "### 1.1-3\n",
    "**Select a data structure that you have seen, and discuss its strengths and limitations.**\n",
    "\n",
    "Dictionaries are useful for storing keyed data, eliminating the need for precise ordering while maintaining accessibility of specific elements."
   ],
   "id": "84f798f2a4478bab"
  },
  {
   "metadata": {},
   "cell_type": "markdown",
   "source": [
    "### 1.1-4\n",
    "**How are the shortest-path and traveling-salesperson problems given above similar? How are they different?**\n",
    "\n",
    "Both algorithms utilize a graph-like abstraction in order to analyze, compute, and represent the problem. However, the shortest-path problem refers to point-to-point pathfinding, whereas the TSP refers to a \"cyclic\" pathfinding problem."
   ],
   "id": "5fb16eaa9d855842"
  },
  {
   "metadata": {},
   "cell_type": "markdown",
   "source": [
    "### 1.1-5\n",
    "**Suggest a real-world problem in which only the best solution will do. Then come up with one in which \"approximately\" the best solution is good enough.**\n",
    "\n",
    "Finding the exact value to an arithmetic operation typically requires an exact solution (or at least, as much precision as the computer can represent). When Apple Maps calculates the route from point A to B, the path is not deterministically the shortest path in terms of time, or even distance, as real-world conditions are not deterministic."
   ],
   "id": "81a946a5998fe3f4"
  },
  {
   "metadata": {},
   "cell_type": "markdown",
   "source": [
    "### 1.1-6\n",
    "**Describe a real-world problem in which sometimes the entire input is available before you need to solve the problem, but other times the input is not entirely available in advance and arrives over time.**\n",
    "\n",
    "A real-world problem that has the entire input available before solving the problem is a traditional sorting problem. Scheduling systems for airports, however, require adaptive planning as delays + anti-delays are encountered."
   ],
   "id": "63967500e441f4e9"
  }
 ],
 "metadata": {
  "kernelspec": {
   "display_name": "Python 3",
   "language": "python",
   "name": "python3"
  },
  "language_info": {
   "codemirror_mode": {
    "name": "ipython",
    "version": 2
   },
   "file_extension": ".py",
   "mimetype": "text/x-python",
   "name": "python",
   "nbconvert_exporter": "python",
   "pygments_lexer": "ipython2",
   "version": "2.7.6"
  }
 },
 "nbformat": 4,
 "nbformat_minor": 5
}

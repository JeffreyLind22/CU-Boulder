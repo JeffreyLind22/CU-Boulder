{
 "cells": [
  {
   "metadata": {},
   "cell_type": "markdown",
   "source": "# Introduction to Algorithms, 4th Edition: Part III Data Structures - Chapter 12 Binary Search Trees - Section 12.1 What is a Binary Search Tree?",
   "id": "ab44c7aca72dabd3"
  },
  {
   "metadata": {},
   "cell_type": "markdown",
   "source": [
    "A binary search tree is organized, as the name suggests, in a binary tree, as shown in Figure 12.1.\n",
    "Such a tree can be represented with a linked data structure, as in Section 10.3. In addition to a *key* and satellite data, each node object contains attributes *left*, *right*, and *p* that point to the nodes corresponding to its left child, its right child, and its parent, respectively. If a child or the parent is missing, the appropriate attribute contains the value $\\texttt{nil}$. The tree itself has an attribute *root* that points to the root node, or $\\texttt{nil}$ if the tree is empty. The root node $T.\\textit{root}$ is the only node in a tree $T$ whose parent is $\\texttt{nil}$.\n",
    "\n",
    "<img src=\"Figure 12.1.png\" alt=\"Figure 12.1\" width=\"750\"/>\n",
    "\n",
    "The keys in a binary search tree are always stored in such a way as to satisfy the ***binary-search-tree property***:\n",
    "\n",
    "> Let $x$ be a node in a binary search tree. If $y$ is a node in the left subtree of $x$, then $y.\\textit{key} \\leq x.\\textit{key}$. If $y$ is a node in the right subtree of $x$, then $y.\\textit{key} \\geq x.\\textit{key}$\n",
    "\n",
    "Thus, in Figure 12.1(a), the key of the root is $6$, the keys $2$, $5$, and $5$ in its left subtree are no larger than $6$, and the keys $7$ and $8$ in its right subtree are no smaller than $6$. The same property holds for every node in the tree. For example, looking at the root's left child as the root of a subtree, this subtree root has the key $5$, the key $2$ in its left subtree is no larger than $5$, and the key $5$ in its right subtree is no smaller than $5$.\n",
    "\n",
    "Because of the binary-search-tree property,\n",
    "you can print out all the keys in a binary search tree in sorted order by a simple recursive algorithm,\n",
    "called an ***inorder tree walk***, given by the procedure $\\texttt{Inorder-Tree-Walk}$.\n",
    "This algorithm is so named\n",
    "because it prints the key of the root of a subtree\n",
    "between printing the values in its left subtree and printing those in its right subtree.\n",
    "(Similarly, a ***preorder tree walk*** prints the root before the values in either subtree,\n",
    "and a ***postorder tree walk*** prints the root after the values in its subtrees.)\n",
    "To print all the elements in a binary search tree $T$,\n",
    "call $\\texttt{Inorder-Tree-Walk(T.\\textit{root})}$.\n",
    "For example,\n",
    "the inorder tree walk prints the keys in each of the two binary search trees from Figure 12.1 in the order $2, 5, 5, 6, 7, 8$. The correctness of the algorithm follow by induction directly from the binary-search-tree property.\n",
    "\n",
    "```\n",
    "Inorder-Tree-Walk(x)\n",
    "[1] if x != nil\n",
    "[2]     Inorder-Tree-Walk(x.left)\n",
    "[3]     print x.key\n",
    "[4]     Inorder-Tree-Walk(x.right)\n",
    "```\n",
    "\n",
    "It takes $\\Theta(n)$ time to walk an $n$-node binary search tree, since after the initial call, the procedure calls itself recursively exactly twice for each node in the tree - once for its left child and once for its right child. The following theorem gives a formal proof that it takes linear time to perform an inorder tree walk.\n",
    "\n",
    "### *Theorem 12.1*\n",
    "If $x$ is the root of an $n$-node subtree, then the call $\\texttt{Inorder-Tree-Walk(x)}$ takes $\\Theta(n)$ time.\n",
    "\n",
    "***Proof*** Let $T(n)$ denote the time taken by $\\texttt{Inorder-Tree-Walk}$ when it is called on the root of an $n$-node subtree. Since $\\texttt{Inorder-Tree-Walk}$ visits all $n$ nodes of the subtree, we have $T(n) = \\Omega(n)$. It remains to show that $T(n) = O(n)$.\n",
    "\n",
    "Since $\\texttt{Inorder-Tree-Walk}$ takes a small, constant amount on an empty subtree (for the test $x \\neq \\texttt{nil}$), we have $T(0) = c$ for some constant $c > 0$.\n",
    "\n",
    "For $n > 0$, suppose that $\\texttt{Inorder-Tree-Walk}$ is called on a node $x$ whose left subtree has $k$ nodes and whose right subtree has $n - k -1$ nodes. The time to perform $\\texttt{Inorder-Tree-Walk}(x)$ is bounded by $T(n) \\leq T(k) + T(n - k - 1) + d$ for some constant $d > 0$ that reflects an upper bound on the time to execute the body of $\\texttt{Inorder-Tree-Walk}(x)$, exclusive of the time spent in recursive calls.\n",
    "\n",
    "We use the substitution method to show that $T(n) = O(n)$ by proving that $T(n) \\leq n(c + d) + c$. For $n = 0$, we have $0(c + d) + c = c = T(0)$. For $n > 0$, we have\n",
    "$$\n",
    "T(n) \\leq T(k) + T(n - k - 1) + d \\leq ((c + d)k + c) + ((c + d)(n - k - 1) + c) + d = (c + d)n + c - (c + d) + c + d = (c + d)n + c\n",
    "$$\n",
    "which complete the proof.\n",
    "<div style=\"text-align: right\"> $\\blacksquare$ </div>"
   ],
   "id": "93dafcf4c84b54d5"
  },
  {
   "metadata": {},
   "cell_type": "markdown",
   "source": "",
   "id": "10143791aba17f89"
  }
 ],
 "metadata": {
  "kernelspec": {
   "display_name": "Python 3",
   "language": "python",
   "name": "python3"
  },
  "language_info": {
   "codemirror_mode": {
    "name": "ipython",
    "version": 2
   },
   "file_extension": ".py",
   "mimetype": "text/x-python",
   "name": "python",
   "nbconvert_exporter": "python",
   "pygments_lexer": "ipython2",
   "version": "2.7.6"
  }
 },
 "nbformat": 4,
 "nbformat_minor": 5
}

{
 "cells": [
  {
   "metadata": {},
   "cell_type": "markdown",
   "source": "# Introduction to Algorithms, 4th Edition: Part III Data Structures - Chapter 12 Binary Search Trees - Section 12.1 What is a Binary Search Tree?",
   "id": "ab44c7aca72dabd3"
  },
  {
   "metadata": {},
   "cell_type": "markdown",
   "source": [
    "A binary search tree is organized, as the name suggests, in a binary tree, as shown in Figure 12.1.\n",
    "Such a tree can be represented with a linked data structure, as in Section 10.3. In addition to a *key* and satellite data, each node object contains attributes *left*, *right*, and *p* that point to the nodes corresponding to its left child, its right child, and its parent, respectively. If a child or the parent is missing, the appropriate attribute contains the value $\\texttt{nil}$. The tree itself has an attribute *root* that points to the root node, or $\\texttt{nil}$ if the tree is empty. The root node $T.\\textit{root}$ is the only node in a tree $T$ whose parent is $\\texttt{nil}$.\n",
    "\n",
    "<img src=\"Figure 12.1.png\" alt=\"Figure 12.1\" width=\"750\"/>\n",
    "\n",
    "The keys in a binary search tree are always stored in such a way as to satisfy the ***binary-search-tree property***:\n",
    "\n",
    "> Let $x$ be a node in a binary search tree. If $y$ is a node in the left subtree of $x$, then $y.\\textit{key} \\leq x.\\textit{key}$. If $y$ is a node in the right subtree of $x$, then $y.\\textit{key} \\geq x.\\textit{key}$\n",
    "\n",
    "Thus, in Figure 12.1(a), the key of the root is $6$,\n",
    "the keys $2$, $5$, and $5$ in its left subtree are no larger than $6$,\n",
    "and the keys $7$ and $8$ in its right subtree are no smaller than $6$.\n",
    "The same property holds for every node in the tree.\n",
    "For example, looking at the root's left child as the root of a subtree, this subtree root has the key $5$,\n",
    "the key $2$ in its left subtree is no larger than $5$, and the key $5$ in its right subtree is no smaller than $5$."
   ],
   "id": "93dafcf4c84b54d5"
  }
 ],
 "metadata": {
  "kernelspec": {
   "display_name": "Python 3",
   "language": "python",
   "name": "python3"
  },
  "language_info": {
   "codemirror_mode": {
    "name": "ipython",
    "version": 2
   },
   "file_extension": ".py",
   "mimetype": "text/x-python",
   "name": "python",
   "nbconvert_exporter": "python",
   "pygments_lexer": "ipython2",
   "version": "2.7.6"
  }
 },
 "nbformat": 4,
 "nbformat_minor": 5
}

{
 "cells": [
  {
   "metadata": {},
   "cell_type": "markdown",
   "source": "# Introduction to Algorithms, 4th Edition: Part III Data Structures - Chapter 12 Binary Search Trees - Section 12.2 Querying a Binary Search Tree",
   "id": "ab44c7aca72dabd3"
  },
  {
   "metadata": {},
   "cell_type": "markdown",
   "source": "Binary search trees can support the queries $\\texttt{Minimum}$, $\\texttt{Maximum}$, $\\texttt{Successor}$, and $\\texttt{Predecessor}$, as well as $\\texttt{Search}$. This section examines these operations and shows how to support each one in $O(h)$ time on any binary search tree of height $h$.",
   "id": "e9e2a673aeadeefb"
  },
  {
   "metadata": {},
   "cell_type": "markdown",
   "source": [
    "## Searching\n",
    "To search for a node with a given key in a binary search tree, call the $\\texttt{Tree-Search}$ procedure. Given a pointer $x$ to the root of a subtree and a key $k$, $\\texttt{Tree-Search}(x, k)$ returns a pointer to a node with key $k$ if one exists in the subtree; otherwise, it returns $\\texttt{nil}$. To search for key $k$ in the entire binary search tree $T$, call $\\texttt{Tree-Search}(T.\\textit{root}, k)$.\n",
    "\n",
    "```\n",
    "Tree-Search(x, k)\n",
    "[1] if x == nil or k == x.key\n",
    "[2]     return x\n",
    "[3] if k < x.key\n",
    "[4]     return Tree-Search(x.left, k)\n",
    "[5] else return Tree-Search(x.right, k)\n",
    "\n",
    "Iterative-Tree-Search(x, k)\n",
    "[1] while x != nil and k != x.key\n",
    "[2]     if k < x.key\n",
    "[3]         x = x.left\n",
    "[4]     else x = x.right\n",
    "[5] return x\n",
    "```\n",
    "\n",
    "The $\\texttt{Tree-Search}$ procedure begins its search at the root and traces a simple path downward in the tree, as shown in Figure 12.2(a). For each node $x$ it encounters, it compares the key $k$ with $x.key$. If the two keys are equals, the search terminates. If $k$ is smaller than $x.\\textit{key}$, the search continues in the left subtree of $x$, since the binary-search-tree property implies that $k$ cannot reside in the right subtree. Symmetrically, if $k$ is larger than $x.\\textit{key}$, the search continues in the right subtree. The nodes encountered during the recursion form a simple path downward from the root of the tree, and thus the running time of $\\texttt{Tree-Search}$ is $O(h)$, where $h$ is the height of the tree.\n",
    "\n",
    "<img src=\"Figure 12.2.png\" alt=\"Figure 12.2\" width=\"750\"/>\n",
    "\n",
    "Since the $\\texttt{Tree-Search}$ procedure recurses on either the left subtree or the right subtree, but not both, we can rewrite the algorithm to \"unroll\" the recursion into a **while** loop. On most computers, the $\\texttt{Iterative-Tree-Search}$ procedure on the facing page is more efficient."
   ],
   "id": "9ac430648a392e05"
  },
  {
   "metadata": {},
   "cell_type": "markdown",
   "source": [
    "## Minimum and Maximum\n",
    "To find an element in a binary search tree whose key is a minimum, just follow *left* child pointers from the root until you encounter a $\\texttt{nil}$, as shown in Figure 12.2(b). The $\\texttt{Tree-Minimum}$ procedure returns a pointer to the minimum element in the subtree rooted at a given node $x$, which we assume to be non-$\\texttt{nil}$.\n",
    "\n",
    "```\n",
    "Tree-Minimum(x)\n",
    "[1] while x.left != nil\n",
    "[2]     x = x.left\n",
    "[3] return x\n",
    "\n",
    "Tree-Maximum(x)\n",
    "[1] while x.right != nil\n",
    "[2]     x = x.right\n",
    "[3] return x\n",
    "```\n",
    "\n",
    "The binary-search-tree property guarantees that $\\texttt{Tree-Minimum}$ is correct. If node $x$ has no left subtree, then since every key in the right subtree of $x$ is at least as large as $x.\\textit{key}$, the minimum key in the subtree rooted at $x$ is $x.\\textit{key}$. If node $x$ has a left subtree, then since no key in the right subtree is smaller than $x.\\textit{key}$ and every key in the left subtree is not larger than $x.\\textit{key}$, the minimum key in the subtree rooted at $x$ resides in the subtree rooted at $x.\\textit{left}$.\n",
    "\n",
    "The pseudocode for $\\texttt{Tree-Maximum}$ is symmetric. Both $\\texttt{Tree-Minimum}$ and $\\texttt{Tree-Maximum}$ run in $O(h)$ time on a tree of height $h$ since, as in $\\texttt{Tree-Search}$, the sequence of nodes encountered forms a simple path downward from the root."
   ],
   "id": "9109c5a2889e49d3"
  },
  {
   "metadata": {},
   "cell_type": "markdown",
   "source": [
    "## Successor and Predecessor\n",
    "Given a node in a binary search tree, how can you find its successor in the sorted order determined by an inorder tree walk? If all keys are distinct, the successor of a node $x$ is the node with the smallest key greater than $x.\\textit{key}$. Regardless of whether the keys are distinct, we define the ***successor*** of a node as the next node visited in an inorder tree walk. The structure of a binary search tree allows you to determine the successor of a node without comparing keys. The $\\texttt{Tree-Successor}$ procedure returns the successor of a node $x$ in a binary search tree if it exists, or $\\texttt{nil}$ if $x$ is the last node that would be visited during an inorder walk.\n",
    "\n",
    "```\n",
    "Tree-Successor(x)\n",
    "[1] if x.right != nil\n",
    "[2]     return Tree-Minimum(x.right) // Leftmost node in right subtree\n",
    "[3] else // Find the lowest ancestor of x whose left child is an ancestor of x\n",
    "[4]     y = x.p\n",
    "[5]     while y != nil and x == y.right\n",
    "[6]         x = y\n",
    "[7]         y = y.p\n",
    "[8]     return y\n",
    "```\n",
    "\n",
    "The code for $\\texttt{Tree-Successor}$ has two cases.\n",
    "If the right subtree of node $x$ is nonempty,\n",
    "then the successor of $x$ is just the leftmost node in $x$'s right subtree,\n",
    "which line $2$ finds by calling $\\texttt{Tree-Minimum}(x.\\textit{right})$. For example, the successor of the node with key $15$ in Figure $12.2$(c) is the node with key $17$.\n",
    "\n",
    "On the other hand, if the right subtree of node $x$ is empty and $x$ has a successor $y$,\n",
    "then $y$ is the lowest ancestor of $x$ whose left child is also an ancestor of $x$.\n",
    "In Figure $12.2$(d), the successor of the node with key $13$ is the node with key $15$.\n",
    "To find $y$, go up the tree from $x$ until you encounter either the root or a node that is the left child of its parent. Lines $4$-$8$ of $\\texttt{Tree-Successor}$ handle this case.\n",
    "\n",
    "The running time of $\\texttt{Tree-Successor}$ on a tree of height $h$ is $O(h)$,\n",
    "since it either follows a simple path up the tree or follows a simple path down the tree.\n",
    "The procedure $\\texttt{Tree-Predecessor}$, which is symmetric to $\\texttt{Tree-Successor}$, also runs in $O(h)$ time.\n",
    "\n",
    "In summary, we have proved the following theorem\n",
    "\n",
    "### Theorem 12.2\n",
    "The dynamic-set operations $\\texttt{Search}$, $\\texttt{Minimum}$, $\\texttt{Maximum}$, $\\texttt{Successor}$,\n",
    "and $\\texttt{Predecessor}$ can be implemented so that each one runs in $O(h)$ time on a binary search tree of height $h$."
   ],
   "id": "4e9eb815768eb850"
  }
 ],
 "metadata": {
  "kernelspec": {
   "display_name": "Python 3",
   "language": "python",
   "name": "python3"
  },
  "language_info": {
   "codemirror_mode": {
    "name": "ipython",
    "version": 2
   },
   "file_extension": ".py",
   "mimetype": "text/x-python",
   "name": "python",
   "nbconvert_exporter": "python",
   "pygments_lexer": "ipython2",
   "version": "2.7.6"
  }
 },
 "nbformat": 4,
 "nbformat_minor": 5
}

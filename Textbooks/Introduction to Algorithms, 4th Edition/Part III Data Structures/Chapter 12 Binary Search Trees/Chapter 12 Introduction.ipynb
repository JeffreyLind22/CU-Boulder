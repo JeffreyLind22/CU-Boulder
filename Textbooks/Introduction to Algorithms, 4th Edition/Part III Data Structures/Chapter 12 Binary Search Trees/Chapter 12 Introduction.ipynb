{
 "cells": [
  {
   "metadata": {},
   "cell_type": "markdown",
   "source": "# Introduction to Algorithms, 4th Edition: Part III Data Structures - Chapter 12 Introduction",
   "id": "e0e6d70e658b21d8"
  },
  {
   "metadata": {},
   "cell_type": "markdown",
   "source": [
    "The search tree data structure supports each of the following dynamic-set operations: $\\texttt{Search}$, $\\texttt{Minimum}$, $\\texttt{Maximum}$, $\\texttt{Predecessor}$, $\\texttt{Successor}$, $\\texttt{Insert}$, and $\\texttt{Delete}$. Thus, a search tree can be used as both a dictionary and a priority queue.\n",
    "\n",
    "Basic operations on a binary search tree take time proportional to the height of the tree. For a complete binary tree with $n$ nodes, such operations run in $\\Theta(\\lg{n})$ worst-case time. If the tree is a linear chain of $n$ nodes, however, the same operations take $\\Theta(n)$ worst-case time. In Chapter 13, we'll see a variation of binary search trees, red-black trees, whose operations guarantee a height of $O(\\lg{n})$. We won't prove it here, but if you build a binary search tree on a random set of $n$ keys, its expected height is $O(\\lg{n})$ even if you don't try to limit its height.\n",
    "\n",
    "After presenting the basic properties of binary search trees, the following sections show how to walk a binary search tree to print its values in sorted order, how to search for a value in a binary search tree, how to find the minimum or maximum element, how to find the predecessor or successor of an element, and how to insert into or delete from a binary search tree."
   ],
   "id": "e4ae2d4de5df607f"
  }
 ],
 "metadata": {
  "kernelspec": {
   "display_name": "Python 3",
   "language": "python",
   "name": "python3"
  },
  "language_info": {
   "codemirror_mode": {
    "name": "ipython",
    "version": 2
   },
   "file_extension": ".py",
   "mimetype": "text/x-python",
   "name": "python",
   "nbconvert_exporter": "python",
   "pygments_lexer": "ipython2",
   "version": "2.7.6"
  }
 },
 "nbformat": 4,
 "nbformat_minor": 5
}

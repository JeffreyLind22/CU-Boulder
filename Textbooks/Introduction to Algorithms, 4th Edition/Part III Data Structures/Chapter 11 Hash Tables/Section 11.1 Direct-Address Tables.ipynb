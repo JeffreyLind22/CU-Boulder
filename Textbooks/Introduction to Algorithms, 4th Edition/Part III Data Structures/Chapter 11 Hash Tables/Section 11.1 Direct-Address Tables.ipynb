{
 "cells": [
  {
   "metadata": {},
   "cell_type": "markdown",
   "source": "# Introduction to Algorithms, 4th Edition: Part III Data Structures - Chapter 10 Elementary Data Structures - Section 11.1 Direct-Address Tables",
   "id": "ab44c7aca72dabd3"
  },
  {
   "metadata": {},
   "cell_type": "markdown",
   "source": [
    "Direct addressing is a simple technique that works well when the universe $U$ of keys is reasonably small. Suppose that an application needs a dynamic set in which each element has a distinct key drawn from the universe $U = \\{0, 1, \\ldots, m - 1\\}$, where $m$ is not too large.\n",
    "\n",
    "To represent the dynamic set, you can use an array, or **direct-address table**, denoted by $T[0 : m - 1]$, in which each position, or **slot**, corresponds to a key in the universe $U$. Figure 11.1 illustrates this approach. Slot $k$ points to an element in the set with key $k$. If the set contains no element with key $k$, then $T[k] = \\texttt{nil}$.\n",
    "\n",
    "<img src=\"Slot-Key Relation.png\" alt=\"Slot-Key Relation\" width=\"750\"/>\n",
    "\n",
    "The dictionary operations $\\texttt{Direct-Address-Search}$, $\\texttt{Direct-Address-Insert}$, and $\\texttt{Direct-Address-Delete}$ are trivial to implement. Each takes only O(1) time.\n",
    "\n",
    "```\n",
    "Direct-Address-Search(T, k)\n",
    "[1] return T[k]\n",
    "\n",
    "Direct-Address-Insert(T, x)\n",
    "[1] T[x.key] = x\n",
    "\n",
    "Direct-Address-Delete(T, x)\n",
    "[1] T[x.key] = nil\n",
    "```\n",
    "\n",
    "For some applications, the direct-address table itself can hold the elements in the dynamic set. That is, rather than storing an element's key and satellite data in an object external to the direct-address table, with a pointer from a slot in the table to the object, save space by storing the object directly in the slot. To indicate an empty slot, use a special key. Then again, why store the key of the object at all? The index of the object *is* its key! Of course, then you'd need some way to tell whether the slots are empty."
   ],
   "id": "5cd5f8745ea57bf7"
  }
 ],
 "metadata": {
  "kernelspec": {
   "display_name": "Python 3",
   "language": "python",
   "name": "python3"
  },
  "language_info": {
   "codemirror_mode": {
    "name": "ipython",
    "version": 2
   },
   "file_extension": ".py",
   "mimetype": "text/x-python",
   "name": "python",
   "nbconvert_exporter": "python",
   "pygments_lexer": "ipython2",
   "version": "2.7.6"
  }
 },
 "nbformat": 4,
 "nbformat_minor": 5
}

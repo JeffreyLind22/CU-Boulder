{
 "cells": [
  {
   "metadata": {},
   "cell_type": "markdown",
   "source": "# Introduction to Algorithms, 4th Edition: Part III Data Structures - Chapter 10 Elementary Data Structures - Section 11.4 Open Addressing",
   "id": "ab44c7aca72dabd3"
  },
  {
   "metadata": {},
   "cell_type": "markdown",
   "source": [
    "This section describes open addressing, a method for collision resolution that, unlike chaining, does not make use of storage outside of the hash table itself. In ***open addressing***, all elements occupy the hash table itself. That is, each table entry contains either an element of the dynamic set of $\\texttt{nil}$. No lists or elements are stored outside the table, unlike in chaining. Thus, in open addressing, the hash table can \"fill up\" so that no further insertions can be made. One consequence is that the load factor $\\alpha$ can never exceed $1$.\n",
    "\n",
    "Collisions are handled as follows: when a new element is to be inserted into the table, it is placed in its \"first-choice\" location if possible. If that location is already occupied, the new element is placed in its \"second-choice\" location. The process continues until an empty slot is found in which to place the new element. Different elements have different preference orders for the locations.\n",
    "\n",
    "To search for an element, systematically examine the preferred table slots for that element, in order of decreasing preference, until either you find the desired element or you find an empty slot and thus verify that the element is not in the table.\n",
    "\n",
    "Of course, you could use chaining to store the linked lists inside the hash table, in the otherwise unused hash-table slots, but the advantage of open addressing is that it avoids pointers altogether. Instead of following pointers, you compute the sequence of slots to be examined. The memory freed by not storing pointers provides the hash table with a large number of slots in the same amount of memory, potentially yielding fewer collisions and faster retrieval.\n",
    "\n",
    "To perform insertion using open addressing, successively examine, or ***probe***, the hash table until you find an empty slot in which to put the key. Instead of being fixed in the order $0, 1, \\ldots, m - 1$ (which implies a $\\Theta(n)$ search time), the sequence of positions probed depends upon the key being inserted. To determine which slots to probe, the hash functions includes the probe number (starting from $0$) as a second input. Thus, the hash function becomes\n",
    "$$\n",
    "h: U \\times \\{0, 1, \\ldots, m - 1\\} \\rightarrow \\{0, 1, \\ldots, m - 1\\}.\n",
    "$$\n",
    "Open addressing requires that for every key $k$, the ***probe sequence*** $\\langle h(k, 0), h(k, 1), \\ldots, h(k, m - 1)\\rangle$ be a permutation of $\\langle 0, 1, \\ldots, m - 1\\rangle$, so that every hash table position is eventually considered as a slot for a new key as the table fills up. The $\\texttt{Hash-Insert}$ procedure on the following page assumes that the elements in the hash table $T$ are keys with no satellite information: the key $k$ is identical to the element containing key $k$. Each slot contains either a key or $\\texttt{nil}$ (if the slot is empty). The $\\texttt{Hash-Insert}$ procedure takes as input a hash table $T$ and a key $k$ that is assumed to be not already present in the hash table. It either returns the slot number where it stores key $k$ or flags an error because the hash table is already full.\n",
    "\n",
    "```\n",
    "Hash-Insert(T, k)\n",
    "[1] i = 0\n",
    "[2] repeat\n",
    "[3]     q = h(k, i)\n",
    "[4]     if T[q] == nil\n",
    "[5]         T[q] = k\n",
    "[6]         return q\n",
    "[7]     else i = i + 1\n",
    "[8] until i == m\n",
    "[9] error \"hash table overflow\"\n",
    "\n",
    "Hash-Search(T, k)\n",
    "[1] i = 0\n",
    "[2] repeat\n",
    "[3]     q = h(k, i)\n",
    "[4]     if T[q] == k\n",
    "[5]         return q\n",
    "[6]     i = i + 1\n",
    "[7] until T[q] == nil or i == m\n",
    "[8] return nil\n",
    "```\n",
    "\n",
    "The algorithm for searching for key $k$ probes the same sequence of slots that the insertion algorithm examined when key $k$ was inserted. Therefore, the search can terminate (unsuccessfully) when it finds an empty slot, since $k$ would have been inserted there and not later in its probe sequence. The procedure $\\texttt{Hash-Search}$ takes as input a hash table $T$ and a key $k$, returning $q$ if it finds that slot $q$ contains key $k$, nor $\\texttt{nil}$ if key $k$ is not present in table $T$.\n",
    "\n",
    "Deletion from an open-address hash table is tricky. When you delete a key from slot $q$, it would be a mistake to mark that slot as empty by simply storing $\\texttt{nil}$ in it. If you did, you might be unable to retrieve any key $k$ for which slot $q$ was probed and found occupied when $k$ was inserted. One way to solve this problem is by marking the slot, storing in it the special value $\\texttt{Deleted}$ instead of $\\texttt{nil}$. The $\\texttt{Hash-Insert}$ procedure then has to treat such a slot as empty so that it can insert a new key there. The $\\texttt{Hash-Search}$ procedure passes over $\\texttt{Deleted}$ values while searching, since slots containing $\\texttt{Deleted}$ were filled when the key being searched for was inserted. Using the special value $\\texttt{Deleted}$, however, means that search times no longer depend on the load factor $\\alpha$, and for this reason chaining is frequently selected as a collision resolution technique when keys must be deleted. There is a simple special case of open addressing, linear probing, that avoids the need to mark slots with $\\texttt{Deleted}$. Section 11.5.1 shows how to delete from a hash table when using linear probing."
   ],
   "id": "b35324aaae94648e"
  }
 ],
 "metadata": {
  "kernelspec": {
   "display_name": "Python 3",
   "language": "python",
   "name": "python3"
  },
  "language_info": {
   "codemirror_mode": {
    "name": "ipython",
    "version": 2
   },
   "file_extension": ".py",
   "mimetype": "text/x-python",
   "name": "python",
   "nbconvert_exporter": "python",
   "pygments_lexer": "ipython2",
   "version": "2.7.6"
  }
 },
 "nbformat": 4,
 "nbformat_minor": 5
}

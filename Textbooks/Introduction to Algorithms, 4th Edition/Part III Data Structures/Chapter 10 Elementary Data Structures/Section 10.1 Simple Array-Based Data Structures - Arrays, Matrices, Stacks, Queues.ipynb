{
 "cells": [
  {
   "metadata": {},
   "cell_type": "markdown",
   "source": "# Introduction to Algorithms, 4th Edition: Part III Data Structures - Chapter 10 Elementary Data Structures - Section 10.1 Simple Array-Based Data Structures: Arrays, Matrices, Stacks, and Queues",
   "id": "ab44c7aca72dabd3"
  },
  {
   "metadata": {},
   "cell_type": "markdown",
   "source": [
    "## 10.1.1 Arrays\n",
    "We assume that, as in most programming languages, an array is stored as a contiguous sequence of bytes in memory. If the first element of an array has index $s$ (for example, in an array with $1$-origin indexing, $s = 1$), the array starts at memory address $a$, and each array element occupies $b$ bytes, then the $i$th element occupies bytes $a + b(i - s)$ through $a + b(i - s + 1)$. Since most of the arrays in this book are indexed starting at $1$, and a few starting at $0$, we can simplify these formulas a little. When $s = 1$, the $i$th element occupies bytes $a + b(i - 1)$ through $a + bi - 1$, and when $s = 0$, the $i$th element occupies bytes $a + bi$ through $a + b(i + 1) - 1$. Assuming that the computer can access all memory locations in the same amount of time (as in the RAM model described in Section 2.2), it takes constant time to access any array element, regardless of the index.\n",
    "\n",
    "Most programming languages require each element of a particular array to be the same size. If the elements of a given array might occupy different numbers of bytes, then the above formulas fail to apply, since the element size $b$ is not a constant. In such cases, the array elements are usually objects of varying sizes, and what actually appears in each array element is a pointer to the object. The number of bytes occupied by a pointer is typically the same, no matter what the pointer references, so that to access an object in an array, the above formulas give the address of the pointer to the object and then the pointer must be followed to access the object itself."
   ],
   "id": "faeacad3d1c0c7b3"
  },
  {
   "metadata": {},
   "cell_type": "markdown",
   "source": [
    "## 10.1.2 Matrices\n",
    "We typically represent a matrix or two-dimensional array by one or more one-dimensional arrays. The two most common ways to store a matrix are row-major and column-major order.\n",
    "\n",
    "Let's consider an $m \\times n$ matrix - a matrix with $m$ rows and $n$ columns. In **row-major order**, the matrix is stored row by row, and in **column-major order**, the matrix is stored column by column. For example, consider the $2 \\times 3$ matrix\n",
    "$$\n",
    "M =\n",
    "\\begin{pmatrix}\n",
    "1 & 2 & 3\\\\\n",
    "4 & 5 & 6\n",
    "\\end{pmatrix} \\qquad \\mathbf{(10.1)}\n",
    "$$\n",
    "Row-major order stores the two rows $1 \\ 2 \\ 3$ and $4 \\ 5 \\ 6$, whereas column-major order stores the three columns $1 \\ 4$; $2 \\ 5$; and $3 \\ 6$.\n",
    "\n",
    "Parts (a) and (b) of the figure below show how to store this matrix using a single one-dimensional array.\n",
    "\n",
    "<img src=\"Matrix Representation.png\" alt=\"Matrix Representations\" width=\"500\"/>\n",
    "\n",
    "It's stored in row-major order in part (a) and in column-major order in part (b). If the rows, columns, and the single array all are indexed starting at $s$, then $M[i, j]$ - the element in row $i$ and column $j$ - is at array index $s + n(i - s) + (j - s)$ with row-major order and $s + m(j - s) + (i - s)$ with column-major order.\n",
    "\n",
    "Parts (c) and (d) show multiple-array strategies for storing the example matrix. In part (c), each row is stored in its own array of length $n$, shown in tan. Another array, with $m$ elements, shown in blue, points to the $m$ row arrays. If we call the blue array $A$, then $A[i]$ points to the array storing entries for row $i$ of $M$, and array element $A[i]\\left[j\\right]$ stores matrix element $M[i, j]$. Part (d) shows the column-major version of the multiple-array representation, with $n$ arrays, each of length $m$, representing the $n$ columns. Matrix element $M[i, j]$ is stored in array element $A[j]\\left[i\\right]$.\n",
    "\n",
    "Occasionally, other schemes are used to store matrices. In the **block representation**, the matrix is divided into blocks, and each block is stored contiguously. For example, a $4 \\times 4$ matrix that is divided into $2 \\times 2$ blocks, such as \n",
    "\n",
    "<img src=\"Block Representation.png\" alt=\"Block Representation\" width=\"150\"/>\n",
    "\n",
    "might be stored in a single array in the order $\\langle 1, 2, 5, 6, 3, 4, 7, 8, 9, 10, 13, 14, 11, 12, 15, 16 \\rangle$."
   ],
   "id": "bb819e5c3049ada2"
  },
  {
   "metadata": {},
   "cell_type": "markdown",
   "source": [
    "## 10.1.3 Stacks and Queues\n",
    "Stacks and queues are dynamic sets in which the element removed from the set by the $\\texttt{Delete}$ operation is prespecified. In a **stack**, the element deleted from the set is the one most recently inserted; the stack implements a **last-in, first-out**, or **LIFO**, policy. Similarly, in a **queue**, the element deleted is always the one that has been in the set for the longest time: the queue implements a **first-in, first-out**, or **FIFO**, policy. There are several efficient ways to implement stacks and queues on a computer. Here, you will see how to use an array with attributes to store them.\n",
    "\n",
    "### Stacks\n",
    "The $\\texttt{Insert}$ operation on a stack is often called $\\texttt{Push}$, and the $\\texttt{Delete}$ operation, which does not take an element argument, is often called $\\texttt{Pop}$. These names are allusions to physical stacks, such as the spring-loaded stacks of plates used in cafeterias. The figure below shows how to implement a stack of at most $n$ elements with an array $S[1:n]$\n",
    "\n",
    "<img src=\"Stack.png\" alt=\"Stack Array Implementation\" width=\"500\"/>\n",
    "\n",
    "The stack has attributes $S$.*top*, indexing the most recently inserted element, and $S.\\textit{top}$, equaling the size $n$ of the array. The stack consists of elements $S[1:S.\\textit{top}]$, where $S[1]$ is the element at the bottom of the stack and $S[S.\\textit{top}]$ is the element at the top.\n",
    "\n",
    "When $S.\\textit{top} = 0$, the stack contains no elements and is **empty**. We can test whether the stack is empty with the query operation $\\texttt{Stack-Empty}$. Upon an attempt to pop an empty stack, the stack **underflows**, which is normally an error. If $S.\\textit{top}$ exceeds $S.\\textit{size}$, the stack **overflows**.\n",
    "\n",
    "The procedures $\\texttt{Stack-Empty}$, $\\texttt{Push}$, and $\\texttt{Pop}$ implement each of the stack operations with just a few lines of code. Each of the three stack operations below takes $O(1)$ time.\n",
    "\n",
    "```\n",
    "Stack-Empty(S)\n",
    "    if S.top == 0\n",
    "        return True\n",
    "    else return False\n",
    "\n",
    "Push(S, x)\n",
    "    if S.top == S.size\n",
    "        error \"overflow\"\n",
    "    else S.top = S.top + 1\n",
    "         S[S.top] = x\n",
    "\n",
    "Pop(S)a\n",
    "    if Stack-Empty(S)\n",
    "        error \"underflow\"\n",
    "    else S.top = S.top - 1\n",
    "        return S[S.top + 1]\n",
    "```\n",
    "\n",
    "### Queues\n",
    "We call the $\\texttt{Insert}$ operation on a queue $\\texttt{Enqueue}$, and we call the $\\texttt{Delete}$ operation $\\texttt{Dequeue}$. Like the stack operation $\\texttt{Pop}$, $\\texttt{Dequeue}$ takes no element argument. The FIFO property of a queue causes it to operate like a line of customers waiting for service. The queue has a **head** and a **tail**. When an element is enqueued, it takes its place at the tail of the queue, just as a newly arriving customer takes a place at the end of the line. The element dequeued is always the one at the head of the queue, like the customer at the head of the line, who has waited the longest.\n",
    "\n",
    "The figure below shows one way to implement a queue of at most $n - 1$ elements using an array $Q[1:n]$, with the attribute $Q.\\textit{size}$ equaling the size $n$ of the array.\n",
    "\n",
    "<img src=\"Queue.png\" alt=\"Queue Array Implementation\" width=\"500\"/>\n",
    "\n",
    "The queue has an attribute $Q.\\textit{head}$ that indexes, or points to, its head. The attribute $Q.\\textit{tail}$ indexes the next location at which a newly arriving element will be inserted into the queue. The elements in the queue reside in locations $Q.\\textit{head}$, $Q.\\textit{head} + 1$, $\\ldots$, Q.\\textit{tail} - 1, where we \"wrap around\" in the sense that location $1$ immediately follows location $n$ in a circular order. When $Q.\\textit{head} = Q.\\textit{tail}$, the queue is empty. Initially, we have $Q.\\textit{head} = Q.\\textit{tail} = 1$. An attempt to dequeue an element from an empty queue causes the queue to underflow. When $Q.\\textit{head} = Q.\\textit{head} + 1$ or both $Q.\\textit{head} = 1$ and $Q.\\textit{tail} = Q.\\textit{size}$, the queue is full, and an attempt to enqueue an element causes the queue to overflow.\n",
    "\n",
    "In the procedures $\\texttt{Enqueue}$ and $\\texttt{Dequeue}$, we have omitted the error checking for underflow and overflow. Each operation below takes $O(1)$ time.\n",
    "\n",
    "```\n",
    "Enqueue(Q, x)\n",
    "    Q[Q.tail] = x\n",
    "    if Q.tail == Q.size\n",
    "        Q.tail = 1\n",
    "    else Q.tail = Q.tail + 1\n",
    "\n",
    "Dequeue(Q)\n",
    "    x = Q[Q.head]\n",
    "    if Q.head == Q.size\n",
    "        Q.head = 1\n",
    "    else Q.head = Q.head + 1\n",
    "    return x\n",
    "```"
   ],
   "id": "90640d56b04bacc5"
  },
  {
   "metadata": {},
   "cell_type": "markdown",
   "source": "## Exercises",
   "id": "1487bb45dc3b186f"
  },
  {
   "metadata": {},
   "cell_type": "markdown",
   "source": [
    "### 10.1-1\n",
    "**Consider an $m \\times n$ matrix in row-major order, where both $m$ and $n$ are powers of $2$ and rows and columns are indexed from $0$. We can represent a row index $i$ in binary by the $\\lg{m}$ bits $\\langle i_{\\lg{m} - 1}, i_{\\lg{m} - 2}, \\ldots, i_0 \\rangle$ and a column index $j$ in binary by the $\\lg{n}$ bits $\\langle j_{\\lg{m} - 1}, j_{\\lg{m} - 2}, \\ldots, j_0 \\rangle$. Suppose that this matrix is a $2 \\times 2$ block matrix, where each block has $\\frac{m}{2}$ rows and $\\frac{n}{2}$ columns, and it is to be represented by a single array with $0$-origin indexing. Show how to construct the binary representation of the $\\left(\\lg{m} + \\lg{n}\\right)$-bit index into the single array from the binary representations of $i$ and $j$.**\n",
    "\n"
   ],
   "id": "6f7b894b8d8d1235"
  }
 ],
 "metadata": {
  "kernelspec": {
   "display_name": "Python 3",
   "language": "python",
   "name": "python3"
  },
  "language_info": {
   "codemirror_mode": {
    "name": "ipython",
    "version": 2
   },
   "file_extension": ".py",
   "mimetype": "text/x-python",
   "name": "python",
   "nbconvert_exporter": "python",
   "pygments_lexer": "ipython2",
   "version": "2.7.6"
  }
 },
 "nbformat": 4,
 "nbformat_minor": 5
}

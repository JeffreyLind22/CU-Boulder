{
 "cells": [
  {
   "metadata": {},
   "cell_type": "markdown",
   "source": "# Introduction to Algorithms, 4th Edition: Part III Data Structures - Introduction",
   "id": "a2c9f7de7276ffe5"
  },
  {
   "metadata": {},
   "cell_type": "markdown",
   "source": [
    "Sets are as fundamental to computer science as they are to mathematics. Whereas mathematical sets are unchanging, the sets manipulated by an algorithm can grow, shrink, or otherwise change over time. We call such sets **dynamic**.\n",
    "\n",
    "Algorithms may require several types of operations to be performed on sets. For example, many algorithms need only the ability to insert elements into, delete elements from, and test membership in a set. We call a dynamic set that supports these operations a **dictionary**"
   ],
   "id": "4c60647034b35c9f"
  },
  {
   "metadata": {},
   "cell_type": "markdown",
   "source": [
    "## Elements of a Dynamic Set\n",
    "In a typical implementation of a dynamic set, each element is represented by an object whose attributes can be examined and manipulated given a pointer to the object. Some kinds of dynamic sets assume that one of the object's attributes is an identifying **key**. If the keys are all different, we can think of the dynamic set as being a set of key values. The object may contain **satellite data**, which are carried around in other object attributes but are otherwise unused by the set implementation. It may also have attributes that are manipulated by the set operations."
   ],
   "id": "2a7d03a9c405ed7f"
  },
  {
   "metadata": {},
   "cell_type": "markdown",
   "source": [
    "## Operations on Dynamic Sets\n",
    "Operations on a dynamic set can be grouped into two categoires: **queries**, which simply return information about the set, and **modifying operations**, which change the set."
   ],
   "id": "3f6a4be9973be7b3"
  }
 ],
 "metadata": {
  "kernelspec": {
   "display_name": "Python 3",
   "language": "python",
   "name": "python3"
  },
  "language_info": {
   "codemirror_mode": {
    "name": "ipython",
    "version": 2
   },
   "file_extension": ".py",
   "mimetype": "text/x-python",
   "name": "python",
   "nbconvert_exporter": "python",
   "pygments_lexer": "ipython2",
   "version": "2.7.6"
  }
 },
 "nbformat": 4,
 "nbformat_minor": 5
}
